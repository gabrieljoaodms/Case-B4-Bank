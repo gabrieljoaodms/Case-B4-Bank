{
  "nbformat": 4,
  "nbformat_minor": 0,
  "metadata": {
    "colab": {
      "name": "Case B4 Bank.ipynb",
      "provenance": [],
      "collapsed_sections": []
    },
    "kernelspec": {
      "name": "python3",
      "display_name": "Python 3"
    },
    "language_info": {
      "name": "python"
    }
  },
  "cells": [
    {
      "cell_type": "markdown",
      "metadata": {
        "id": "cBk3zyrd_2QJ"
      },
      "source": [
        "#Conhecimento dos dados"
      ]
    },
    {
      "cell_type": "markdown",
      "metadata": {
        "id": "K7pP3u7QunZy"
      },
      "source": [
        "###Importando biblioteca Pandas"
      ]
    },
    {
      "cell_type": "code",
      "metadata": {
        "id": "j8-xE6yeovtc"
      },
      "source": [
        "import pandas as pd"
      ],
      "execution_count": 109,
      "outputs": []
    },
    {
      "cell_type": "markdown",
      "metadata": {
        "id": "o-sy9WBcFUML"
      },
      "source": [
        "###Ignorando futuras mensagens de \"Warning\" que não impedem o funcionamento do código"
      ]
    },
    {
      "cell_type": "code",
      "metadata": {
        "id": "HLeCjgOpFTk8"
      },
      "source": [
        "import warnings\n",
        "warnings.simplefilter(action='ignore', category=FutureWarning)\n",
        "pd.options.mode.chained_assignment = None"
      ],
      "execution_count": 110,
      "outputs": []
    },
    {
      "cell_type": "markdown",
      "metadata": {
        "id": "73GCkS47uuDv"
      },
      "source": [
        "###Leitura dos arquivos "
      ]
    },
    {
      "cell_type": "code",
      "metadata": {
        "id": "2wcewCzGzkcw"
      },
      "source": [
        "excel = pd.ExcelFile('B4 Bank Data.xlsx')\n",
        "df1 = pd.read_excel(excel, 'Reviews_Bank')\n",
        "df2 = pd.read_excel(excel, 'Retained_Bank')"
      ],
      "execution_count": 111,
      "outputs": []
    },
    {
      "cell_type": "markdown",
      "metadata": {
        "id": "5DkgEYb0ykvV"
      },
      "source": [
        "#Análise do DataFrame Retained_Bank\n"
      ]
    },
    {
      "cell_type": "code",
      "metadata": {
        "colab": {
          "base_uri": "https://localhost:8080/",
          "height": 847
        },
        "id": "zlIkQMar9Jg4",
        "outputId": "db81eb00-1a42-464d-f140-6539b2d6f6ea"
      },
      "source": [
        "df2"
      ],
      "execution_count": 112,
      "outputs": [
        {
          "output_type": "execute_result",
          "data": {
            "text/html": [
              "<div>\n",
              "<style scoped>\n",
              "    .dataframe tbody tr th:only-of-type {\n",
              "        vertical-align: middle;\n",
              "    }\n",
              "\n",
              "    .dataframe tbody tr th {\n",
              "        vertical-align: top;\n",
              "    }\n",
              "\n",
              "    .dataframe thead th {\n",
              "        text-align: right;\n",
              "    }\n",
              "</style>\n",
              "<table border=\"1\" class=\"dataframe\">\n",
              "  <thead>\n",
              "    <tr style=\"text-align: right;\">\n",
              "      <th></th>\n",
              "      <th>Date</th>\n",
              "      <th>Package Name</th>\n",
              "      <th>Acquisition Channel</th>\n",
              "      <th>Store Listing Visitors</th>\n",
              "      <th>Installers</th>\n",
              "      <th>Visitor-to-Installer conversion rate</th>\n",
              "      <th>Installers retained for 1 day</th>\n",
              "      <th>Installer-to-1 day retention rate</th>\n",
              "      <th>Installers retained for 7 days</th>\n",
              "      <th>Installer-to-7 days retention rate</th>\n",
              "      <th>Installers retained for 15 days</th>\n",
              "      <th>Installer-to-15 days retention rate</th>\n",
              "      <th>Installers retained for 30 days</th>\n",
              "      <th>Installer-to-30 days retention rate</th>\n",
              "    </tr>\n",
              "  </thead>\n",
              "  <tbody>\n",
              "    <tr>\n",
              "      <th>0</th>\n",
              "      <td>2019-08-01 00:00:00</td>\n",
              "      <td>B4 Bank</td>\n",
              "      <td>Organic</td>\n",
              "      <td>1628</td>\n",
              "      <td>414</td>\n",
              "      <td>0.254</td>\n",
              "      <td>359</td>\n",
              "      <td>0.867</td>\n",
              "      <td>344</td>\n",
              "      <td>0.831</td>\n",
              "      <td>335</td>\n",
              "      <td>0.809</td>\n",
              "      <td>330</td>\n",
              "      <td>0.797</td>\n",
              "    </tr>\n",
              "    <tr>\n",
              "      <th>1</th>\n",
              "      <td>2019-08-01 00:00:00</td>\n",
              "      <td>B4 Bank</td>\n",
              "      <td>Third-party referrers</td>\n",
              "      <td>514</td>\n",
              "      <td>46</td>\n",
              "      <td>0.089</td>\n",
              "      <td>38</td>\n",
              "      <td>0.826</td>\n",
              "      <td>35</td>\n",
              "      <td>0.761</td>\n",
              "      <td>32</td>\n",
              "      <td>0.696</td>\n",
              "      <td>30</td>\n",
              "      <td>0.652</td>\n",
              "    </tr>\n",
              "    <tr>\n",
              "      <th>2</th>\n",
              "      <td>2019-08-01 00:00:00</td>\n",
              "      <td>B4 Bank</td>\n",
              "      <td>Other</td>\n",
              "      <td>113</td>\n",
              "      <td>23</td>\n",
              "      <td>0.204</td>\n",
              "      <td>17</td>\n",
              "      <td>0.739</td>\n",
              "      <td>17</td>\n",
              "      <td>0.739</td>\n",
              "      <td>14</td>\n",
              "      <td>0.609</td>\n",
              "      <td>13</td>\n",
              "      <td>0.565</td>\n",
              "    </tr>\n",
              "    <tr>\n",
              "      <th>3</th>\n",
              "      <td>2019-08-02 00:00:00</td>\n",
              "      <td>B4 Bank</td>\n",
              "      <td>Organic</td>\n",
              "      <td>1610</td>\n",
              "      <td>407</td>\n",
              "      <td>0.253</td>\n",
              "      <td>354</td>\n",
              "      <td>0.870</td>\n",
              "      <td>338</td>\n",
              "      <td>0.830</td>\n",
              "      <td>330</td>\n",
              "      <td>0.811</td>\n",
              "      <td>322</td>\n",
              "      <td>0.791</td>\n",
              "    </tr>\n",
              "    <tr>\n",
              "      <th>4</th>\n",
              "      <td>2019-08-02 00:00:00</td>\n",
              "      <td>B4 Bank</td>\n",
              "      <td>Tracked channels (UTM)</td>\n",
              "      <td>55</td>\n",
              "      <td>10</td>\n",
              "      <td>0.182</td>\n",
              "      <td>10</td>\n",
              "      <td>1000.000</td>\n",
              "      <td>10</td>\n",
              "      <td>1000.000</td>\n",
              "      <td>9</td>\n",
              "      <td>0.900</td>\n",
              "      <td>8</td>\n",
              "      <td>0.800</td>\n",
              "    </tr>\n",
              "    <tr>\n",
              "      <th>...</th>\n",
              "      <td>...</td>\n",
              "      <td>...</td>\n",
              "      <td>...</td>\n",
              "      <td>...</td>\n",
              "      <td>...</td>\n",
              "      <td>...</td>\n",
              "      <td>...</td>\n",
              "      <td>...</td>\n",
              "      <td>...</td>\n",
              "      <td>...</td>\n",
              "      <td>...</td>\n",
              "      <td>...</td>\n",
              "      <td>...</td>\n",
              "      <td>...</td>\n",
              "    </tr>\n",
              "    <tr>\n",
              "      <th>312</th>\n",
              "      <td>2019-10-29 00:00:00</td>\n",
              "      <td>B4 Bank</td>\n",
              "      <td>Other</td>\n",
              "      <td>55</td>\n",
              "      <td>12</td>\n",
              "      <td>0.218</td>\n",
              "      <td>7</td>\n",
              "      <td>0.583</td>\n",
              "      <td>6</td>\n",
              "      <td>0.500</td>\n",
              "      <td>6</td>\n",
              "      <td>0.500</td>\n",
              "      <td>6</td>\n",
              "      <td>0.500</td>\n",
              "    </tr>\n",
              "    <tr>\n",
              "      <th>313</th>\n",
              "      <td>2019-10-30 00:00:00</td>\n",
              "      <td>B4 Bank</td>\n",
              "      <td>Organic</td>\n",
              "      <td>2457</td>\n",
              "      <td>545</td>\n",
              "      <td>0.222</td>\n",
              "      <td>437</td>\n",
              "      <td>0.802</td>\n",
              "      <td>402</td>\n",
              "      <td>0.738</td>\n",
              "      <td>386</td>\n",
              "      <td>0.708</td>\n",
              "      <td>374</td>\n",
              "      <td>0.686</td>\n",
              "    </tr>\n",
              "    <tr>\n",
              "      <th>314</th>\n",
              "      <td>2019-10-30 00:00:00</td>\n",
              "      <td>B4 Bank</td>\n",
              "      <td>Tracked channels (UTM)</td>\n",
              "      <td>207</td>\n",
              "      <td>15</td>\n",
              "      <td>0.072</td>\n",
              "      <td>8</td>\n",
              "      <td>0.533</td>\n",
              "      <td>6</td>\n",
              "      <td>0.400</td>\n",
              "      <td>6</td>\n",
              "      <td>0.400</td>\n",
              "      <td>6</td>\n",
              "      <td>0.400</td>\n",
              "    </tr>\n",
              "    <tr>\n",
              "      <th>315</th>\n",
              "      <td>2019-10-30 00:00:00</td>\n",
              "      <td>B4 Bank</td>\n",
              "      <td>Third-party referrers</td>\n",
              "      <td>2625</td>\n",
              "      <td>207</td>\n",
              "      <td>0.079</td>\n",
              "      <td>123</td>\n",
              "      <td>0.594</td>\n",
              "      <td>104</td>\n",
              "      <td>0.502</td>\n",
              "      <td>96</td>\n",
              "      <td>0.464</td>\n",
              "      <td>83</td>\n",
              "      <td>0.401</td>\n",
              "    </tr>\n",
              "    <tr>\n",
              "      <th>316</th>\n",
              "      <td>2019-10-30 00:00:00</td>\n",
              "      <td>B4 Bank</td>\n",
              "      <td>Other</td>\n",
              "      <td>96</td>\n",
              "      <td>18</td>\n",
              "      <td>0.188</td>\n",
              "      <td>14</td>\n",
              "      <td>0.778</td>\n",
              "      <td>13</td>\n",
              "      <td>0.722</td>\n",
              "      <td>12</td>\n",
              "      <td>0.667</td>\n",
              "      <td>12</td>\n",
              "      <td>0.667</td>\n",
              "    </tr>\n",
              "  </tbody>\n",
              "</table>\n",
              "<p>317 rows × 14 columns</p>\n",
              "</div>"
            ],
            "text/plain": [
              "                    Date  ... Installer-to-30 days retention rate\n",
              "0    2019-08-01 00:00:00  ...                               0.797\n",
              "1    2019-08-01 00:00:00  ...                               0.652\n",
              "2    2019-08-01 00:00:00  ...                               0.565\n",
              "3    2019-08-02 00:00:00  ...                               0.791\n",
              "4    2019-08-02 00:00:00  ...                               0.800\n",
              "..                   ...  ...                                 ...\n",
              "312  2019-10-29 00:00:00  ...                               0.500\n",
              "313  2019-10-30 00:00:00  ...                               0.686\n",
              "314  2019-10-30 00:00:00  ...                               0.400\n",
              "315  2019-10-30 00:00:00  ...                               0.401\n",
              "316  2019-10-30 00:00:00  ...                               0.667\n",
              "\n",
              "[317 rows x 14 columns]"
            ]
          },
          "metadata": {
            "tags": []
          },
          "execution_count": 112
        }
      ]
    },
    {
      "cell_type": "code",
      "metadata": {
        "colab": {
          "base_uri": "https://localhost:8080/"
        },
        "id": "lu3hAXQg1qab",
        "outputId": "83bec1f1-5cae-4c31-e5ef-2deb40b4361e"
      },
      "source": [
        "df2.info()"
      ],
      "execution_count": 113,
      "outputs": [
        {
          "output_type": "stream",
          "text": [
            "<class 'pandas.core.frame.DataFrame'>\n",
            "RangeIndex: 317 entries, 0 to 316\n",
            "Data columns (total 14 columns):\n",
            " #   Column                                Non-Null Count  Dtype  \n",
            "---  ------                                --------------  -----  \n",
            " 0   Date                                  317 non-null    object \n",
            " 1   Package Name                          317 non-null    object \n",
            " 2   Acquisition Channel                   317 non-null    object \n",
            " 3   Store Listing Visitors                317 non-null    int64  \n",
            " 4   Installers                            317 non-null    int64  \n",
            " 5   Visitor-to-Installer conversion rate  317 non-null    float64\n",
            " 6   Installers retained for 1 day         317 non-null    int64  \n",
            " 7   Installer-to-1 day retention rate     317 non-null    float64\n",
            " 8   Installers retained for 7 days        317 non-null    int64  \n",
            " 9   Installer-to-7 days retention rate    317 non-null    float64\n",
            " 10  Installers retained for 15 days       317 non-null    int64  \n",
            " 11  Installer-to-15 days retention rate   317 non-null    float64\n",
            " 12  Installers retained for 30 days       317 non-null    int64  \n",
            " 13  Installer-to-30 days retention rate   317 non-null    float64\n",
            "dtypes: float64(5), int64(6), object(3)\n",
            "memory usage: 34.8+ KB\n"
          ],
          "name": "stdout"
        }
      ]
    },
    {
      "cell_type": "markdown",
      "metadata": {
        "id": "-WIFc6z9vZ7W"
      },
      "source": [
        "###Tratamento de dados incorretos no arquivo"
      ]
    },
    {
      "cell_type": "code",
      "metadata": {
        "colab": {
          "base_uri": "https://localhost:8080/",
          "height": 847
        },
        "id": "iz6Q7FD_8K0e",
        "outputId": "23ba7c28-af64-4bbf-b25a-b676f83f7ef8"
      },
      "source": [
        "tratar_valor_1000 = {1000 : 1}\n",
        "df2[['Installer-to-1 day retention rate','Installer-to-7 days retention rate','Installer-to-15 days retention rate','Installer-to-30 days retention rate']] = df2[['Installer-to-1 day retention rate','Installer-to-7 days retention rate','Installer-to-15 days retention rate','Installer-to-30 days retention rate']].replace(tratar_valor_1000)\n",
        "df2"
      ],
      "execution_count": 114,
      "outputs": [
        {
          "output_type": "execute_result",
          "data": {
            "text/html": [
              "<div>\n",
              "<style scoped>\n",
              "    .dataframe tbody tr th:only-of-type {\n",
              "        vertical-align: middle;\n",
              "    }\n",
              "\n",
              "    .dataframe tbody tr th {\n",
              "        vertical-align: top;\n",
              "    }\n",
              "\n",
              "    .dataframe thead th {\n",
              "        text-align: right;\n",
              "    }\n",
              "</style>\n",
              "<table border=\"1\" class=\"dataframe\">\n",
              "  <thead>\n",
              "    <tr style=\"text-align: right;\">\n",
              "      <th></th>\n",
              "      <th>Date</th>\n",
              "      <th>Package Name</th>\n",
              "      <th>Acquisition Channel</th>\n",
              "      <th>Store Listing Visitors</th>\n",
              "      <th>Installers</th>\n",
              "      <th>Visitor-to-Installer conversion rate</th>\n",
              "      <th>Installers retained for 1 day</th>\n",
              "      <th>Installer-to-1 day retention rate</th>\n",
              "      <th>Installers retained for 7 days</th>\n",
              "      <th>Installer-to-7 days retention rate</th>\n",
              "      <th>Installers retained for 15 days</th>\n",
              "      <th>Installer-to-15 days retention rate</th>\n",
              "      <th>Installers retained for 30 days</th>\n",
              "      <th>Installer-to-30 days retention rate</th>\n",
              "    </tr>\n",
              "  </thead>\n",
              "  <tbody>\n",
              "    <tr>\n",
              "      <th>0</th>\n",
              "      <td>2019-08-01 00:00:00</td>\n",
              "      <td>B4 Bank</td>\n",
              "      <td>Organic</td>\n",
              "      <td>1628</td>\n",
              "      <td>414</td>\n",
              "      <td>0.254</td>\n",
              "      <td>359</td>\n",
              "      <td>0.867</td>\n",
              "      <td>344</td>\n",
              "      <td>0.831</td>\n",
              "      <td>335</td>\n",
              "      <td>0.809</td>\n",
              "      <td>330</td>\n",
              "      <td>0.797</td>\n",
              "    </tr>\n",
              "    <tr>\n",
              "      <th>1</th>\n",
              "      <td>2019-08-01 00:00:00</td>\n",
              "      <td>B4 Bank</td>\n",
              "      <td>Third-party referrers</td>\n",
              "      <td>514</td>\n",
              "      <td>46</td>\n",
              "      <td>0.089</td>\n",
              "      <td>38</td>\n",
              "      <td>0.826</td>\n",
              "      <td>35</td>\n",
              "      <td>0.761</td>\n",
              "      <td>32</td>\n",
              "      <td>0.696</td>\n",
              "      <td>30</td>\n",
              "      <td>0.652</td>\n",
              "    </tr>\n",
              "    <tr>\n",
              "      <th>2</th>\n",
              "      <td>2019-08-01 00:00:00</td>\n",
              "      <td>B4 Bank</td>\n",
              "      <td>Other</td>\n",
              "      <td>113</td>\n",
              "      <td>23</td>\n",
              "      <td>0.204</td>\n",
              "      <td>17</td>\n",
              "      <td>0.739</td>\n",
              "      <td>17</td>\n",
              "      <td>0.739</td>\n",
              "      <td>14</td>\n",
              "      <td>0.609</td>\n",
              "      <td>13</td>\n",
              "      <td>0.565</td>\n",
              "    </tr>\n",
              "    <tr>\n",
              "      <th>3</th>\n",
              "      <td>2019-08-02 00:00:00</td>\n",
              "      <td>B4 Bank</td>\n",
              "      <td>Organic</td>\n",
              "      <td>1610</td>\n",
              "      <td>407</td>\n",
              "      <td>0.253</td>\n",
              "      <td>354</td>\n",
              "      <td>0.870</td>\n",
              "      <td>338</td>\n",
              "      <td>0.830</td>\n",
              "      <td>330</td>\n",
              "      <td>0.811</td>\n",
              "      <td>322</td>\n",
              "      <td>0.791</td>\n",
              "    </tr>\n",
              "    <tr>\n",
              "      <th>4</th>\n",
              "      <td>2019-08-02 00:00:00</td>\n",
              "      <td>B4 Bank</td>\n",
              "      <td>Tracked channels (UTM)</td>\n",
              "      <td>55</td>\n",
              "      <td>10</td>\n",
              "      <td>0.182</td>\n",
              "      <td>10</td>\n",
              "      <td>1.000</td>\n",
              "      <td>10</td>\n",
              "      <td>1.000</td>\n",
              "      <td>9</td>\n",
              "      <td>0.900</td>\n",
              "      <td>8</td>\n",
              "      <td>0.800</td>\n",
              "    </tr>\n",
              "    <tr>\n",
              "      <th>...</th>\n",
              "      <td>...</td>\n",
              "      <td>...</td>\n",
              "      <td>...</td>\n",
              "      <td>...</td>\n",
              "      <td>...</td>\n",
              "      <td>...</td>\n",
              "      <td>...</td>\n",
              "      <td>...</td>\n",
              "      <td>...</td>\n",
              "      <td>...</td>\n",
              "      <td>...</td>\n",
              "      <td>...</td>\n",
              "      <td>...</td>\n",
              "      <td>...</td>\n",
              "    </tr>\n",
              "    <tr>\n",
              "      <th>312</th>\n",
              "      <td>2019-10-29 00:00:00</td>\n",
              "      <td>B4 Bank</td>\n",
              "      <td>Other</td>\n",
              "      <td>55</td>\n",
              "      <td>12</td>\n",
              "      <td>0.218</td>\n",
              "      <td>7</td>\n",
              "      <td>0.583</td>\n",
              "      <td>6</td>\n",
              "      <td>0.500</td>\n",
              "      <td>6</td>\n",
              "      <td>0.500</td>\n",
              "      <td>6</td>\n",
              "      <td>0.500</td>\n",
              "    </tr>\n",
              "    <tr>\n",
              "      <th>313</th>\n",
              "      <td>2019-10-30 00:00:00</td>\n",
              "      <td>B4 Bank</td>\n",
              "      <td>Organic</td>\n",
              "      <td>2457</td>\n",
              "      <td>545</td>\n",
              "      <td>0.222</td>\n",
              "      <td>437</td>\n",
              "      <td>0.802</td>\n",
              "      <td>402</td>\n",
              "      <td>0.738</td>\n",
              "      <td>386</td>\n",
              "      <td>0.708</td>\n",
              "      <td>374</td>\n",
              "      <td>0.686</td>\n",
              "    </tr>\n",
              "    <tr>\n",
              "      <th>314</th>\n",
              "      <td>2019-10-30 00:00:00</td>\n",
              "      <td>B4 Bank</td>\n",
              "      <td>Tracked channels (UTM)</td>\n",
              "      <td>207</td>\n",
              "      <td>15</td>\n",
              "      <td>0.072</td>\n",
              "      <td>8</td>\n",
              "      <td>0.533</td>\n",
              "      <td>6</td>\n",
              "      <td>0.400</td>\n",
              "      <td>6</td>\n",
              "      <td>0.400</td>\n",
              "      <td>6</td>\n",
              "      <td>0.400</td>\n",
              "    </tr>\n",
              "    <tr>\n",
              "      <th>315</th>\n",
              "      <td>2019-10-30 00:00:00</td>\n",
              "      <td>B4 Bank</td>\n",
              "      <td>Third-party referrers</td>\n",
              "      <td>2625</td>\n",
              "      <td>207</td>\n",
              "      <td>0.079</td>\n",
              "      <td>123</td>\n",
              "      <td>0.594</td>\n",
              "      <td>104</td>\n",
              "      <td>0.502</td>\n",
              "      <td>96</td>\n",
              "      <td>0.464</td>\n",
              "      <td>83</td>\n",
              "      <td>0.401</td>\n",
              "    </tr>\n",
              "    <tr>\n",
              "      <th>316</th>\n",
              "      <td>2019-10-30 00:00:00</td>\n",
              "      <td>B4 Bank</td>\n",
              "      <td>Other</td>\n",
              "      <td>96</td>\n",
              "      <td>18</td>\n",
              "      <td>0.188</td>\n",
              "      <td>14</td>\n",
              "      <td>0.778</td>\n",
              "      <td>13</td>\n",
              "      <td>0.722</td>\n",
              "      <td>12</td>\n",
              "      <td>0.667</td>\n",
              "      <td>12</td>\n",
              "      <td>0.667</td>\n",
              "    </tr>\n",
              "  </tbody>\n",
              "</table>\n",
              "<p>317 rows × 14 columns</p>\n",
              "</div>"
            ],
            "text/plain": [
              "                    Date  ... Installer-to-30 days retention rate\n",
              "0    2019-08-01 00:00:00  ...                               0.797\n",
              "1    2019-08-01 00:00:00  ...                               0.652\n",
              "2    2019-08-01 00:00:00  ...                               0.565\n",
              "3    2019-08-02 00:00:00  ...                               0.791\n",
              "4    2019-08-02 00:00:00  ...                               0.800\n",
              "..                   ...  ...                                 ...\n",
              "312  2019-10-29 00:00:00  ...                               0.500\n",
              "313  2019-10-30 00:00:00  ...                               0.686\n",
              "314  2019-10-30 00:00:00  ...                               0.400\n",
              "315  2019-10-30 00:00:00  ...                               0.401\n",
              "316  2019-10-30 00:00:00  ...                               0.667\n",
              "\n",
              "[317 rows x 14 columns]"
            ]
          },
          "metadata": {
            "tags": []
          },
          "execution_count": 114
        }
      ]
    },
    {
      "cell_type": "markdown",
      "metadata": {
        "id": "mv7P8o6mvb-O"
      },
      "source": [
        "###Criação e exportação de DataFrame com os canais de aquisição como index"
      ]
    },
    {
      "cell_type": "code",
      "metadata": {
        "id": "0WDggRQH3xQ2"
      },
      "source": [
        "df2_canal_aquisicao = df2.groupby('Acquisition Channel')"
      ],
      "execution_count": 115,
      "outputs": []
    },
    {
      "cell_type": "code",
      "metadata": {
        "colab": {
          "base_uri": "https://localhost:8080/",
          "height": 204
        },
        "id": "7c7aWyazvjIp",
        "outputId": "a9e9866b-5b69-4fa1-f5d9-d28d37cb511c"
      },
      "source": [
        "usuarios_por_canal = df2_canal_aquisicao['Store Listing Visitors','Installers'].sum()\n",
        "usuarios_por_canal"
      ],
      "execution_count": 116,
      "outputs": [
        {
          "output_type": "execute_result",
          "data": {
            "text/html": [
              "<div>\n",
              "<style scoped>\n",
              "    .dataframe tbody tr th:only-of-type {\n",
              "        vertical-align: middle;\n",
              "    }\n",
              "\n",
              "    .dataframe tbody tr th {\n",
              "        vertical-align: top;\n",
              "    }\n",
              "\n",
              "    .dataframe thead th {\n",
              "        text-align: right;\n",
              "    }\n",
              "</style>\n",
              "<table border=\"1\" class=\"dataframe\">\n",
              "  <thead>\n",
              "    <tr style=\"text-align: right;\">\n",
              "      <th></th>\n",
              "      <th>Store Listing Visitors</th>\n",
              "      <th>Installers</th>\n",
              "    </tr>\n",
              "    <tr>\n",
              "      <th>Acquisition Channel</th>\n",
              "      <th></th>\n",
              "      <th></th>\n",
              "    </tr>\n",
              "  </thead>\n",
              "  <tbody>\n",
              "    <tr>\n",
              "      <th>Organic</th>\n",
              "      <td>185449</td>\n",
              "      <td>33981</td>\n",
              "    </tr>\n",
              "    <tr>\n",
              "      <th>Other</th>\n",
              "      <td>6242</td>\n",
              "      <td>1181</td>\n",
              "    </tr>\n",
              "    <tr>\n",
              "      <th>Third-party referrers</th>\n",
              "      <td>109365</td>\n",
              "      <td>9806</td>\n",
              "    </tr>\n",
              "    <tr>\n",
              "      <th>Tracked channels (UTM)</th>\n",
              "      <td>29005</td>\n",
              "      <td>642</td>\n",
              "    </tr>\n",
              "  </tbody>\n",
              "</table>\n",
              "</div>"
            ],
            "text/plain": [
              "                        Store Listing Visitors  Installers\n",
              "Acquisition Channel                                       \n",
              "Organic                                 185449       33981\n",
              "Other                                     6242        1181\n",
              "Third-party referrers                   109365        9806\n",
              "Tracked channels (UTM)                   29005         642"
            ]
          },
          "metadata": {
            "tags": []
          },
          "execution_count": 116
        }
      ]
    },
    {
      "cell_type": "code",
      "metadata": {
        "colab": {
          "base_uri": "https://localhost:8080/"
        },
        "id": "IAvIlGnu1M2j",
        "outputId": "22d64526-5f42-4123-86b3-6793102feafd"
      },
      "source": [
        "conversao_por_canal = df2_canal_aquisicao['Visitor-to-Installer conversion rate'].mean()\n",
        "conversao_por_canal"
      ],
      "execution_count": 117,
      "outputs": [
        {
          "output_type": "execute_result",
          "data": {
            "text/plain": [
              "Acquisition Channel\n",
              "Organic                   0.200804\n",
              "Other                     0.190337\n",
              "Third-party referrers     0.109372\n",
              "Tracked channels (UTM)    0.045851\n",
              "Name: Visitor-to-Installer conversion rate, dtype: float64"
            ]
          },
          "metadata": {
            "tags": []
          },
          "execution_count": 117
        }
      ]
    },
    {
      "cell_type": "code",
      "metadata": {
        "colab": {
          "base_uri": "https://localhost:8080/"
        },
        "id": "YGOKkean6Xy-",
        "outputId": "7b1b469a-e7db-4520-f339-942cd8e8bf6d"
      },
      "source": [
        "retencao_15_dias = df2_canal_aquisicao['Installers retained for 15 days'].sum()\n",
        "retencao_15_dias"
      ],
      "execution_count": 118,
      "outputs": [
        {
          "output_type": "execute_result",
          "data": {
            "text/plain": [
              "Acquisition Channel\n",
              "Organic                   28091\n",
              "Other                       971\n",
              "Third-party referrers      5228\n",
              "Tracked channels (UTM)      426\n",
              "Name: Installers retained for 15 days, dtype: int64"
            ]
          },
          "metadata": {
            "tags": []
          },
          "execution_count": 118
        }
      ]
    },
    {
      "cell_type": "code",
      "metadata": {
        "colab": {
          "base_uri": "https://localhost:8080/"
        },
        "id": "Se1M6nnJ6L5w",
        "outputId": "6e5abb5c-613e-4310-d3d1-b309dab1cb86"
      },
      "source": [
        "porcentagem_retencao_15_dias = df2_canal_aquisicao['Installer-to-15 days retention rate'].mean()\n",
        "porcentagem_retencao_15_dias"
      ],
      "execution_count": 119,
      "outputs": [
        {
          "output_type": "execute_result",
          "data": {
            "text/plain": [
              "Acquisition Channel\n",
              "Organic                   0.820978\n",
              "Other                     0.827050\n",
              "Third-party referrers     0.603462\n",
              "Tracked channels (UTM)    0.673388\n",
              "Name: Installer-to-15 days retention rate, dtype: float64"
            ]
          },
          "metadata": {
            "tags": []
          },
          "execution_count": 119
        }
      ]
    },
    {
      "cell_type": "code",
      "metadata": {
        "colab": {
          "base_uri": "https://localhost:8080/"
        },
        "id": "Jw3hbKgmH_mp",
        "outputId": "b799ef7e-c48f-4be5-f455-c8a454f2dd68"
      },
      "source": [
        "retencao_30_dias = df2_canal_aquisicao['Installers retained for 30 days'].sum()\n",
        "retencao_30_dias"
      ],
      "execution_count": 120,
      "outputs": [
        {
          "output_type": "execute_result",
          "data": {
            "text/plain": [
              "Acquisition Channel\n",
              "Organic                   27323\n",
              "Other                       925\n",
              "Third-party referrers      4668\n",
              "Tracked channels (UTM)      398\n",
              "Name: Installers retained for 30 days, dtype: int64"
            ]
          },
          "metadata": {
            "tags": []
          },
          "execution_count": 120
        }
      ]
    },
    {
      "cell_type": "code",
      "metadata": {
        "colab": {
          "base_uri": "https://localhost:8080/"
        },
        "id": "xfQvieD07PY4",
        "outputId": "6cac6fec-6cfd-4c64-d178-091480fe0bb7"
      },
      "source": [
        "porcentagem_retencao_30_dias = df2_canal_aquisicao['Installer-to-30 days retention rate'].mean()\n",
        "porcentagem_retencao_30_dias"
      ],
      "execution_count": 121,
      "outputs": [
        {
          "output_type": "execute_result",
          "data": {
            "text/plain": [
              "Acquisition Channel\n",
              "Organic                   0.798141\n",
              "Other                     0.789675\n",
              "Third-party referrers     0.555064\n",
              "Tracked channels (UTM)    0.632657\n",
              "Name: Installer-to-30 days retention rate, dtype: float64"
            ]
          },
          "metadata": {
            "tags": []
          },
          "execution_count": 121
        }
      ]
    },
    {
      "cell_type": "code",
      "metadata": {
        "colab": {
          "base_uri": "https://localhost:8080/",
          "height": 272
        },
        "id": "fsavJ4VEzaoJ",
        "outputId": "71d25b2c-d5cd-4ba4-efce-64b95cde67a0"
      },
      "source": [
        "df2_por_canal = pd.concat([usuarios_por_canal, conversao_por_canal, retencao_15_dias, porcentagem_retencao_15_dias, retencao_30_dias, porcentagem_retencao_30_dias], axis = 1)\n",
        "df2_por_canal"
      ],
      "execution_count": 122,
      "outputs": [
        {
          "output_type": "execute_result",
          "data": {
            "text/html": [
              "<div>\n",
              "<style scoped>\n",
              "    .dataframe tbody tr th:only-of-type {\n",
              "        vertical-align: middle;\n",
              "    }\n",
              "\n",
              "    .dataframe tbody tr th {\n",
              "        vertical-align: top;\n",
              "    }\n",
              "\n",
              "    .dataframe thead th {\n",
              "        text-align: right;\n",
              "    }\n",
              "</style>\n",
              "<table border=\"1\" class=\"dataframe\">\n",
              "  <thead>\n",
              "    <tr style=\"text-align: right;\">\n",
              "      <th></th>\n",
              "      <th>Store Listing Visitors</th>\n",
              "      <th>Installers</th>\n",
              "      <th>Visitor-to-Installer conversion rate</th>\n",
              "      <th>Installers retained for 15 days</th>\n",
              "      <th>Installer-to-15 days retention rate</th>\n",
              "      <th>Installers retained for 30 days</th>\n",
              "      <th>Installer-to-30 days retention rate</th>\n",
              "    </tr>\n",
              "    <tr>\n",
              "      <th>Acquisition Channel</th>\n",
              "      <th></th>\n",
              "      <th></th>\n",
              "      <th></th>\n",
              "      <th></th>\n",
              "      <th></th>\n",
              "      <th></th>\n",
              "      <th></th>\n",
              "    </tr>\n",
              "  </thead>\n",
              "  <tbody>\n",
              "    <tr>\n",
              "      <th>Organic</th>\n",
              "      <td>185449</td>\n",
              "      <td>33981</td>\n",
              "      <td>0.200804</td>\n",
              "      <td>28091</td>\n",
              "      <td>0.820978</td>\n",
              "      <td>27323</td>\n",
              "      <td>0.798141</td>\n",
              "    </tr>\n",
              "    <tr>\n",
              "      <th>Other</th>\n",
              "      <td>6242</td>\n",
              "      <td>1181</td>\n",
              "      <td>0.190337</td>\n",
              "      <td>971</td>\n",
              "      <td>0.827050</td>\n",
              "      <td>925</td>\n",
              "      <td>0.789675</td>\n",
              "    </tr>\n",
              "    <tr>\n",
              "      <th>Third-party referrers</th>\n",
              "      <td>109365</td>\n",
              "      <td>9806</td>\n",
              "      <td>0.109372</td>\n",
              "      <td>5228</td>\n",
              "      <td>0.603462</td>\n",
              "      <td>4668</td>\n",
              "      <td>0.555064</td>\n",
              "    </tr>\n",
              "    <tr>\n",
              "      <th>Tracked channels (UTM)</th>\n",
              "      <td>29005</td>\n",
              "      <td>642</td>\n",
              "      <td>0.045851</td>\n",
              "      <td>426</td>\n",
              "      <td>0.673388</td>\n",
              "      <td>398</td>\n",
              "      <td>0.632657</td>\n",
              "    </tr>\n",
              "  </tbody>\n",
              "</table>\n",
              "</div>"
            ],
            "text/plain": [
              "                        Store Listing Visitors  ...  Installer-to-30 days retention rate\n",
              "Acquisition Channel                             ...                                     \n",
              "Organic                                 185449  ...                             0.798141\n",
              "Other                                     6242  ...                             0.789675\n",
              "Third-party referrers                   109365  ...                             0.555064\n",
              "Tracked channels (UTM)                   29005  ...                             0.632657\n",
              "\n",
              "[4 rows x 7 columns]"
            ]
          },
          "metadata": {
            "tags": []
          },
          "execution_count": 122
        }
      ]
    },
    {
      "cell_type": "code",
      "metadata": {
        "id": "EwH6UO8ywFfl"
      },
      "source": [
        "df2_por_canal.to_excel('informacoes_por_canal.xlsx', sheet_name='banco_retencao')"
      ],
      "execution_count": 123,
      "outputs": []
    },
    {
      "cell_type": "markdown",
      "metadata": {
        "id": "63irSxRIwsS1"
      },
      "source": [
        "###Exploração da quantidade total de instalações pelo canal Orgânico"
      ]
    },
    {
      "cell_type": "code",
      "metadata": {
        "colab": {
          "base_uri": "https://localhost:8080/"
        },
        "id": "byScxL9qAf41",
        "outputId": "0c1b4326-960c-43b9-9e38-78b468c60a76"
      },
      "source": [
        "instalacoes_organico = df2['Installers'][df2['Acquisition Channel'] == 'Organic'].sum()\n",
        "instalacoes_organico"
      ],
      "execution_count": 124,
      "outputs": [
        {
          "output_type": "execute_result",
          "data": {
            "text/plain": [
              "33981"
            ]
          },
          "metadata": {
            "tags": []
          },
          "execution_count": 124
        }
      ]
    },
    {
      "cell_type": "code",
      "metadata": {
        "colab": {
          "base_uri": "https://localhost:8080/"
        },
        "id": "1OrzZc-oAtjk",
        "outputId": "00a17003-97d0-419c-e112-b15b7abcbe99"
      },
      "source": [
        "instalacoes_total = df2['Installers'].sum()\n",
        "instalacoes_total"
      ],
      "execution_count": 125,
      "outputs": [
        {
          "output_type": "execute_result",
          "data": {
            "text/plain": [
              "45610"
            ]
          },
          "metadata": {
            "tags": []
          },
          "execution_count": 125
        }
      ]
    },
    {
      "cell_type": "markdown",
      "metadata": {
        "id": "jfQSRQnUxYuu"
      },
      "source": [
        "###Exploração da quantidade de dias constados no DataFrame"
      ]
    },
    {
      "cell_type": "code",
      "metadata": {
        "colab": {
          "base_uri": "https://localhost:8080/"
        },
        "id": "Wtn9CJ5xA7os",
        "outputId": "c28a0edf-f02f-402c-9de3-db5c94e635e3"
      },
      "source": [
        "quantidade_de_dias = len(df2['Installers'][df2['Acquisition Channel'] == 'Organic'])\n",
        "quantidade_de_dias"
      ],
      "execution_count": 126,
      "outputs": [
        {
          "output_type": "execute_result",
          "data": {
            "text/plain": [
              "92"
            ]
          },
          "metadata": {
            "tags": []
          },
          "execution_count": 126
        }
      ]
    },
    {
      "cell_type": "code",
      "metadata": {
        "colab": {
          "base_uri": "https://localhost:8080/"
        },
        "id": "AuQ-s1f44407",
        "outputId": "4c1a32d6-5fad-47d9-b92d-6bab174b6b7b"
      },
      "source": [
        "porcentagem_instalacoes_organico = (instalacoes_organico / instalacoes_total) * 100\n",
        "print(\"A porcentagem de instalações via canal de aquisição 'Orgânico' é de {0:.2f}%\".format(porcentagem_instalacoes_organico))"
      ],
      "execution_count": 127,
      "outputs": [
        {
          "output_type": "stream",
          "text": [
            "A porcentagem de instalações via canal de aquisição 'Orgânico' é de 74.50%\n"
          ],
          "name": "stdout"
        }
      ]
    },
    {
      "cell_type": "markdown",
      "metadata": {
        "id": "nRm6DQHjxnAE"
      },
      "source": [
        "###Análise da quantidade de retenção e instalação do canal Orgânico"
      ]
    },
    {
      "cell_type": "code",
      "metadata": {
        "colab": {
          "base_uri": "https://localhost:8080/"
        },
        "id": "2KWJbZ1J74-r",
        "outputId": "6fe6eaa2-b5e3-4a6c-e13a-5ab0e6520e22"
      },
      "source": [
        "porcentagem_retencao_15_dias_organico = (df2['Installer-to-15 days retention rate'][df2['Acquisition Channel'] == 'Organic']).mean() * 100\n",
        "porcentagem_retencao_30_dias_organico = (df2['Installer-to-30 days retention rate'][df2['Acquisition Channel'] == 'Organic']).mean() * 100\n",
        "print(\"A porcentagem de retenção de 15 e 30 dias das instalações via canal de aquisição 'Orgânico' é, respectivamente, de {0:.2f}% e de {1:.2f}%\".format(porcentagem_retencao_15_dias_organico, porcentagem_retencao_30_dias_organico))"
      ],
      "execution_count": 128,
      "outputs": [
        {
          "output_type": "stream",
          "text": [
            "A porcentagem de retenção de 15 e 30 dias das instalações via canal de aquisição 'Orgânico' é, respectivamente, de 82.10% e de 79.81%\n"
          ],
          "name": "stdout"
        }
      ]
    },
    {
      "cell_type": "code",
      "metadata": {
        "colab": {
          "base_uri": "https://localhost:8080/"
        },
        "id": "ZyhEKqOg_4AF",
        "outputId": "d50d87e5-2c81-49f1-95e3-e183137fb164"
      },
      "source": [
        "media_instalacoes_por_dia_organico = (instalacoes_total / quantidade_de_dias) * (porcentagem_instalacoes_organico/100)\n",
        "media_instalacoes_por_dia_organico.round()"
      ],
      "execution_count": 129,
      "outputs": [
        {
          "output_type": "execute_result",
          "data": {
            "text/plain": [
              "369.0"
            ]
          },
          "metadata": {
            "tags": []
          },
          "execution_count": 129
        }
      ]
    },
    {
      "cell_type": "markdown",
      "metadata": {
        "id": "9YSt8Et0x7AO"
      },
      "source": [
        "###Exemplo de problema a ser resolvido pela Distribuição de Poisson, para o cálculo da probabilidade do aplicativo ser instalado a quantidade X vezes"
      ]
    },
    {
      "cell_type": "markdown",
      "metadata": {
        "id": "j5ipnbyr_iDt"
      },
      "source": [
        "O aplicativo B4 Bank recebe em média **369 instalações por dia** via canal Orgânico. Qual a probabilidade de que, em determinado dia escolhido ao acaso, o aplicativo seja **instalado 350 vezes** organicamente?"
      ]
    },
    {
      "cell_type": "code",
      "metadata": {
        "colab": {
          "base_uri": "https://localhost:8080/"
        },
        "id": "5iauTaeK_QLc",
        "outputId": "45073269-1896-4735-afd1-bf5f2a3d909b"
      },
      "source": [
        "from scipy.stats import poisson\n",
        "k = 350\n",
        "media = 369\n",
        "probabilidade = poisson.pmf(k, media) * 100\n",
        "print(\"A probabilidade de que, em determinado dia escolhido ao acaso, o aplicativo seja instalado 350 vezes organicamente é de %0.8f%%\" % probabilidade)"
      ],
      "execution_count": 130,
      "outputs": [
        {
          "output_type": "stream",
          "text": [
            "A probabilidade de que, em determinado dia escolhido ao acaso, o aplicativo seja instalado 350 vezes organicamente é de 1.29595558%\n"
          ],
          "name": "stdout"
        }
      ]
    },
    {
      "cell_type": "markdown",
      "metadata": {
        "id": "DJp-JCb9iK7l"
      },
      "source": [
        "#Análise do DataFrame Reviews_Bank\n",
        "\n",
        "\n"
      ]
    },
    {
      "cell_type": "code",
      "metadata": {
        "id": "nYrtyJhS3icU",
        "colab": {
          "base_uri": "https://localhost:8080/",
          "height": 470
        },
        "outputId": "dae7ab2a-1420-49b7-d244-b99f4d8b9887"
      },
      "source": [
        "df1"
      ],
      "execution_count": 131,
      "outputs": [
        {
          "output_type": "execute_result",
          "data": {
            "text/html": [
              "<div>\n",
              "<style scoped>\n",
              "    .dataframe tbody tr th:only-of-type {\n",
              "        vertical-align: middle;\n",
              "    }\n",
              "\n",
              "    .dataframe tbody tr th {\n",
              "        vertical-align: top;\n",
              "    }\n",
              "\n",
              "    .dataframe thead th {\n",
              "        text-align: right;\n",
              "    }\n",
              "</style>\n",
              "<table border=\"1\" class=\"dataframe\">\n",
              "  <thead>\n",
              "    <tr style=\"text-align: right;\">\n",
              "      <th></th>\n",
              "      <th>Package Name</th>\n",
              "      <th>App Version Name</th>\n",
              "      <th>Reviewer Language</th>\n",
              "      <th>Device</th>\n",
              "      <th>Review Last Update Date and Time</th>\n",
              "      <th>Star Rating</th>\n",
              "      <th>Review Title</th>\n",
              "      <th>Review Text</th>\n",
              "      <th>Sentiment</th>\n",
              "    </tr>\n",
              "  </thead>\n",
              "  <tbody>\n",
              "    <tr>\n",
              "      <th>0</th>\n",
              "      <td>B4 Bank</td>\n",
              "      <td>6.10.6</td>\n",
              "      <td>pt</td>\n",
              "      <td>greatlte</td>\n",
              "      <td>2019-10-01T00:09:07Z</td>\n",
              "      <td>5</td>\n",
              "      <td>NaN</td>\n",
              "      <td>NaN</td>\n",
              "      <td>Positive</td>\n",
              "    </tr>\n",
              "    <tr>\n",
              "      <th>1</th>\n",
              "      <td>B4 Bank</td>\n",
              "      <td>6.10.6</td>\n",
              "      <td>pt</td>\n",
              "      <td>mido</td>\n",
              "      <td>2019-10-01T00:18:49Z</td>\n",
              "      <td>5</td>\n",
              "      <td>NaN</td>\n",
              "      <td>NaN</td>\n",
              "      <td>Positive</td>\n",
              "    </tr>\n",
              "    <tr>\n",
              "      <th>2</th>\n",
              "      <td>B4 Bank</td>\n",
              "      <td>6.10.6</td>\n",
              "      <td>pt</td>\n",
              "      <td>on5xelte</td>\n",
              "      <td>2019-10-01T00:34:35Z</td>\n",
              "      <td>5</td>\n",
              "      <td>NaN</td>\n",
              "      <td>Boa</td>\n",
              "      <td>Positive</td>\n",
              "    </tr>\n",
              "    <tr>\n",
              "      <th>3</th>\n",
              "      <td>B4 Bank</td>\n",
              "      <td>6.10.6</td>\n",
              "      <td>pt</td>\n",
              "      <td>dreamlte</td>\n",
              "      <td>2019-10-01T00:44:18Z</td>\n",
              "      <td>2</td>\n",
              "      <td>NaN</td>\n",
              "      <td>Não consigo gerar a fatura em PDF, no mesmo fo...</td>\n",
              "      <td>Negative</td>\n",
              "    </tr>\n",
              "    <tr>\n",
              "      <th>4</th>\n",
              "      <td>B4 Bank</td>\n",
              "      <td>6.10.6</td>\n",
              "      <td>pt</td>\n",
              "      <td>starqltechn</td>\n",
              "      <td>2019-10-01T01:09:56Z</td>\n",
              "      <td>4</td>\n",
              "      <td>NaN</td>\n",
              "      <td>NaN</td>\n",
              "      <td>Positive</td>\n",
              "    </tr>\n",
              "    <tr>\n",
              "      <th>...</th>\n",
              "      <td>...</td>\n",
              "      <td>...</td>\n",
              "      <td>...</td>\n",
              "      <td>...</td>\n",
              "      <td>...</td>\n",
              "      <td>...</td>\n",
              "      <td>...</td>\n",
              "      <td>...</td>\n",
              "      <td>...</td>\n",
              "    </tr>\n",
              "    <tr>\n",
              "      <th>5674</th>\n",
              "      <td>B4 Bank</td>\n",
              "      <td>6.10.5</td>\n",
              "      <td>pt</td>\n",
              "      <td>hlte</td>\n",
              "      <td>2019-08-31T21:51:26Z</td>\n",
              "      <td>1</td>\n",
              "      <td>NaN</td>\n",
              "      <td>Baixei a última versão recentemente, ainda não...</td>\n",
              "      <td>NaN</td>\n",
              "    </tr>\n",
              "    <tr>\n",
              "      <th>5675</th>\n",
              "      <td>B4 Bank</td>\n",
              "      <td>6.10.5</td>\n",
              "      <td>pt</td>\n",
              "      <td>potter_nt</td>\n",
              "      <td>2019-08-31T22:36:38Z</td>\n",
              "      <td>4</td>\n",
              "      <td>NaN</td>\n",
              "      <td>NaN</td>\n",
              "      <td>NaN</td>\n",
              "    </tr>\n",
              "    <tr>\n",
              "      <th>5676</th>\n",
              "      <td>B4 Bank</td>\n",
              "      <td>4.1.7</td>\n",
              "      <td>pt</td>\n",
              "      <td>j4primelte</td>\n",
              "      <td>2019-08-31T22:44:22Z</td>\n",
              "      <td>5</td>\n",
              "      <td>NaN</td>\n",
              "      <td>NaN</td>\n",
              "      <td>NaN</td>\n",
              "    </tr>\n",
              "    <tr>\n",
              "      <th>5677</th>\n",
              "      <td>B4 Bank</td>\n",
              "      <td>6.10.5</td>\n",
              "      <td>pt</td>\n",
              "      <td>K10a40</td>\n",
              "      <td>2019-08-31T23:39:14Z</td>\n",
              "      <td>5</td>\n",
              "      <td>NaN</td>\n",
              "      <td>Gostei muito prático, descomplicado</td>\n",
              "      <td>NaN</td>\n",
              "    </tr>\n",
              "    <tr>\n",
              "      <th>5678</th>\n",
              "      <td>B4 Bank</td>\n",
              "      <td>6.10.5</td>\n",
              "      <td>pt</td>\n",
              "      <td>mcv5a</td>\n",
              "      <td>2019-08-31T23:49:22Z</td>\n",
              "      <td>1</td>\n",
              "      <td>NaN</td>\n",
              "      <td>Vive parando de funcionar</td>\n",
              "      <td>NaN</td>\n",
              "    </tr>\n",
              "  </tbody>\n",
              "</table>\n",
              "<p>5679 rows × 9 columns</p>\n",
              "</div>"
            ],
            "text/plain": [
              "     Package Name  ... Sentiment\n",
              "0         B4 Bank  ...  Positive\n",
              "1         B4 Bank  ...  Positive\n",
              "2         B4 Bank  ...  Positive\n",
              "3         B4 Bank  ...  Negative\n",
              "4         B4 Bank  ...  Positive\n",
              "...           ...  ...       ...\n",
              "5674      B4 Bank  ...       NaN\n",
              "5675      B4 Bank  ...       NaN\n",
              "5676      B4 Bank  ...       NaN\n",
              "5677      B4 Bank  ...       NaN\n",
              "5678      B4 Bank  ...       NaN\n",
              "\n",
              "[5679 rows x 9 columns]"
            ]
          },
          "metadata": {
            "tags": []
          },
          "execution_count": 131
        }
      ]
    },
    {
      "cell_type": "code",
      "metadata": {
        "colab": {
          "base_uri": "https://localhost:8080/"
        },
        "id": "yNLaY80aibBS",
        "outputId": "afb53133-c021-4356-d41e-5c2756fd2c4d"
      },
      "source": [
        "df1.info()"
      ],
      "execution_count": 132,
      "outputs": [
        {
          "output_type": "stream",
          "text": [
            "<class 'pandas.core.frame.DataFrame'>\n",
            "RangeIndex: 5679 entries, 0 to 5678\n",
            "Data columns (total 9 columns):\n",
            " #   Column                            Non-Null Count  Dtype \n",
            "---  ------                            --------------  ----- \n",
            " 0   Package Name                      5679 non-null   object\n",
            " 1   App Version Name                  5423 non-null   object\n",
            " 2   Reviewer Language                 5679 non-null   object\n",
            " 3   Device                            5673 non-null   object\n",
            " 4   Review Last Update Date and Time  5679 non-null   object\n",
            " 5   Star Rating                       5679 non-null   int64 \n",
            " 6   Review Title                      1 non-null      object\n",
            " 7   Review Text                       2756 non-null   object\n",
            " 8   Sentiment                         1428 non-null   object\n",
            "dtypes: int64(1), object(8)\n",
            "memory usage: 399.4+ KB\n"
          ],
          "name": "stdout"
        }
      ]
    },
    {
      "cell_type": "markdown",
      "metadata": {
        "id": "JC47aYncy79m"
      },
      "source": [
        "###Análise das avaliações atribuídas"
      ]
    },
    {
      "cell_type": "code",
      "metadata": {
        "colab": {
          "base_uri": "https://localhost:8080/"
        },
        "id": "WKqPqQobicH8",
        "outputId": "18786645-1638-4b9c-9756-8defd48dc2e8"
      },
      "source": [
        "avaliacoes_positivas = df1['Sentiment'] == 'Positive'\n",
        "avaliacoes_positivas = avaliacoes_positivas.values.sum()\n",
        "avaliacoes_positivas"
      ],
      "execution_count": 133,
      "outputs": [
        {
          "output_type": "execute_result",
          "data": {
            "text/plain": [
              "1236"
            ]
          },
          "metadata": {
            "tags": []
          },
          "execution_count": 133
        }
      ]
    },
    {
      "cell_type": "code",
      "metadata": {
        "colab": {
          "base_uri": "https://localhost:8080/"
        },
        "id": "QuHXE9WGiuaX",
        "outputId": "b1196f5c-ee40-4534-d755-3f581cc5a92a"
      },
      "source": [
        "porcentagem_positiva = avaliacoes_positivas / df1['Sentiment'].notnull().sum()\n",
        "porcentagem_positiva = porcentagem_positiva * 100\n",
        "print('A porcentagem de avaliações positivas foram {0:.2f}%.'.format(porcentagem_positiva))"
      ],
      "execution_count": 134,
      "outputs": [
        {
          "output_type": "stream",
          "text": [
            "A porcentagem de avaliações positivas foram 86.55%.\n"
          ],
          "name": "stdout"
        }
      ]
    },
    {
      "cell_type": "code",
      "metadata": {
        "colab": {
          "base_uri": "https://localhost:8080/"
        },
        "id": "vniPATtGmp_u",
        "outputId": "3aff632b-2360-4799-dc50-9061603978a5"
      },
      "source": [
        "media_rating = df1['Star Rating'].mean()\n",
        "print('A média dos ratings é {0:.2f}.'.format(media_rating))"
      ],
      "execution_count": 135,
      "outputs": [
        {
          "output_type": "stream",
          "text": [
            "A média dos ratings é 4.40.\n"
          ],
          "name": "stdout"
        }
      ]
    },
    {
      "cell_type": "code",
      "metadata": {
        "colab": {
          "base_uri": "https://localhost:8080/"
        },
        "id": "OQ6UnKFmqQBV",
        "outputId": "6941eeaa-e969-41c3-ecfc-e49eabcbcc93"
      },
      "source": [
        "moda_rating = df1['Star Rating'].mode()[0]\n",
        "print('O rating mais utilizado nas avaliações é {0:.1f}.'.format(moda_rating))"
      ],
      "execution_count": 136,
      "outputs": [
        {
          "output_type": "stream",
          "text": [
            "O rating mais utilizado nas avaliações é 5.0.\n"
          ],
          "name": "stdout"
        }
      ]
    },
    {
      "cell_type": "code",
      "metadata": {
        "colab": {
          "base_uri": "https://localhost:8080/"
        },
        "id": "T3BmQn9bFl9a",
        "outputId": "15c254fb-4c4c-40c5-ce72-f26ccb000e8f"
      },
      "source": [
        "mediana_rating = df1['Star Rating'].median()\n",
        "print('O rating que separa a metade menor da metade maior da população é {0:.1f}.'.format(mediana_rating))"
      ],
      "execution_count": 137,
      "outputs": [
        {
          "output_type": "stream",
          "text": [
            "O rating que separa a metade menor da metade maior da população é 5.0.\n"
          ],
          "name": "stdout"
        }
      ]
    },
    {
      "cell_type": "markdown",
      "metadata": {
        "id": "U1j2dZ7tPm_2"
      },
      "source": [
        "####Considerando a Escala de Satisfação do Cliente (CSAT) que varia de 1 a 5, a qual classifica:\n",
        "####1 - Muito Insatisfeito, 2 - Insatisfeito, 3 - Indiferente, 4 - Satisfeito, 5 - Muito Satisfeito."
      ]
    },
    {
      "cell_type": "code",
      "metadata": {
        "colab": {
          "base_uri": "https://localhost:8080/"
        },
        "id": "drB7WUrBKa5j",
        "outputId": "43e59c04-1a8a-4648-b28e-325a33bd236f"
      },
      "source": [
        "porcentagem_usuarios_satisfeitos = ((df1['Star Rating'] >= 4).sum() / len(df1['Star Rating'])) * 100 \n",
        "print('A porcentagem de usuários satisfeitos (nota maior ou igual a 4) com o aplicativo é de {0:.0f}%.'.format(porcentagem_usuarios_satisfeitos))"
      ],
      "execution_count": 138,
      "outputs": [
        {
          "output_type": "stream",
          "text": [
            "A porcentagem de usuários satisfeitos (nota maior ou igual a 4) com o aplicativo é de 86%.\n"
          ],
          "name": "stdout"
        }
      ]
    },
    {
      "cell_type": "markdown",
      "metadata": {
        "id": "ZgFqAL5_zK-1"
      },
      "source": [
        "###Criação de DataFrame da quantidade de usuários e rating médio pelo versão do aplicativo"
      ]
    },
    {
      "cell_type": "markdown",
      "metadata": {
        "id": "-Zc712B70VUu"
      },
      "source": [
        "####Troca do nome \"0\" da segunda coluna do DataFrame pelo nome \"Quantidade_de_usuarios\""
      ]
    },
    {
      "cell_type": "code",
      "metadata": {
        "colab": {
          "base_uri": "https://localhost:8080/",
          "height": 1000
        },
        "id": "xGRBstOj87Hg",
        "outputId": "7a49f078-2c50-423b-bbd2-5f98933ecbed"
      },
      "source": [
        "satisfacao_por_versao_app = pd.concat([df1.groupby('App Version Name').size(), df1.groupby('App Version Name').mean()], axis = 1)\n",
        "satisfacao_por_versao_app.rename(columns={0: 'Quantidade_de_usuarios'}, inplace = True)\n",
        "satisfacao_por_versao_app"
      ],
      "execution_count": 139,
      "outputs": [
        {
          "output_type": "execute_result",
          "data": {
            "text/html": [
              "<div>\n",
              "<style scoped>\n",
              "    .dataframe tbody tr th:only-of-type {\n",
              "        vertical-align: middle;\n",
              "    }\n",
              "\n",
              "    .dataframe tbody tr th {\n",
              "        vertical-align: top;\n",
              "    }\n",
              "\n",
              "    .dataframe thead th {\n",
              "        text-align: right;\n",
              "    }\n",
              "</style>\n",
              "<table border=\"1\" class=\"dataframe\">\n",
              "  <thead>\n",
              "    <tr style=\"text-align: right;\">\n",
              "      <th></th>\n",
              "      <th>Quantidade_de_usuarios</th>\n",
              "      <th>Star Rating</th>\n",
              "    </tr>\n",
              "    <tr>\n",
              "      <th>App Version Name</th>\n",
              "      <th></th>\n",
              "      <th></th>\n",
              "    </tr>\n",
              "  </thead>\n",
              "  <tbody>\n",
              "    <tr>\n",
              "      <th>4.1.14</th>\n",
              "      <td>1</td>\n",
              "      <td>5.000000</td>\n",
              "    </tr>\n",
              "    <tr>\n",
              "      <th>4.1.17</th>\n",
              "      <td>1</td>\n",
              "      <td>3.000000</td>\n",
              "    </tr>\n",
              "    <tr>\n",
              "      <th>4.1.7</th>\n",
              "      <td>2</td>\n",
              "      <td>5.000000</td>\n",
              "    </tr>\n",
              "    <tr>\n",
              "      <th>4.1.8</th>\n",
              "      <td>1</td>\n",
              "      <td>5.000000</td>\n",
              "    </tr>\n",
              "    <tr>\n",
              "      <th>5.0.7</th>\n",
              "      <td>1</td>\n",
              "      <td>4.000000</td>\n",
              "    </tr>\n",
              "    <tr>\n",
              "      <th>5.3.1</th>\n",
              "      <td>1</td>\n",
              "      <td>5.000000</td>\n",
              "    </tr>\n",
              "    <tr>\n",
              "      <th>6.0.7</th>\n",
              "      <td>1</td>\n",
              "      <td>5.000000</td>\n",
              "    </tr>\n",
              "    <tr>\n",
              "      <th>6.1.4</th>\n",
              "      <td>2</td>\n",
              "      <td>4.500000</td>\n",
              "    </tr>\n",
              "    <tr>\n",
              "      <th>6.1.9</th>\n",
              "      <td>1</td>\n",
              "      <td>5.000000</td>\n",
              "    </tr>\n",
              "    <tr>\n",
              "      <th>6.10.0</th>\n",
              "      <td>311</td>\n",
              "      <td>4.527331</td>\n",
              "    </tr>\n",
              "    <tr>\n",
              "      <th>6.10.1</th>\n",
              "      <td>8</td>\n",
              "      <td>5.000000</td>\n",
              "    </tr>\n",
              "    <tr>\n",
              "      <th>6.10.2</th>\n",
              "      <td>14</td>\n",
              "      <td>4.857143</td>\n",
              "    </tr>\n",
              "    <tr>\n",
              "      <th>6.10.3</th>\n",
              "      <td>1113</td>\n",
              "      <td>4.385445</td>\n",
              "    </tr>\n",
              "    <tr>\n",
              "      <th>6.10.4</th>\n",
              "      <td>14</td>\n",
              "      <td>4.785714</td>\n",
              "    </tr>\n",
              "    <tr>\n",
              "      <th>6.10.5</th>\n",
              "      <td>1141</td>\n",
              "      <td>4.439965</td>\n",
              "    </tr>\n",
              "    <tr>\n",
              "      <th>6.10.6</th>\n",
              "      <td>2048</td>\n",
              "      <td>4.409668</td>\n",
              "    </tr>\n",
              "    <tr>\n",
              "      <th>6.10.7</th>\n",
              "      <td>20</td>\n",
              "      <td>4.700000</td>\n",
              "    </tr>\n",
              "    <tr>\n",
              "      <th>6.10.8</th>\n",
              "      <td>85</td>\n",
              "      <td>4.188235</td>\n",
              "    </tr>\n",
              "    <tr>\n",
              "      <th>6.10.9</th>\n",
              "      <td>277</td>\n",
              "      <td>4.209386</td>\n",
              "    </tr>\n",
              "    <tr>\n",
              "      <th>6.11.1</th>\n",
              "      <td>107</td>\n",
              "      <td>4.495327</td>\n",
              "    </tr>\n",
              "    <tr>\n",
              "      <th>6.2.5</th>\n",
              "      <td>1</td>\n",
              "      <td>5.000000</td>\n",
              "    </tr>\n",
              "    <tr>\n",
              "      <th>6.4.0</th>\n",
              "      <td>1</td>\n",
              "      <td>5.000000</td>\n",
              "    </tr>\n",
              "    <tr>\n",
              "      <th>6.4.3</th>\n",
              "      <td>4</td>\n",
              "      <td>4.500000</td>\n",
              "    </tr>\n",
              "    <tr>\n",
              "      <th>6.5.1</th>\n",
              "      <td>1</td>\n",
              "      <td>5.000000</td>\n",
              "    </tr>\n",
              "    <tr>\n",
              "      <th>6.5.10</th>\n",
              "      <td>1</td>\n",
              "      <td>5.000000</td>\n",
              "    </tr>\n",
              "    <tr>\n",
              "      <th>6.5.5</th>\n",
              "      <td>1</td>\n",
              "      <td>4.000000</td>\n",
              "    </tr>\n",
              "    <tr>\n",
              "      <th>6.5.7</th>\n",
              "      <td>1</td>\n",
              "      <td>5.000000</td>\n",
              "    </tr>\n",
              "    <tr>\n",
              "      <th>6.6.11</th>\n",
              "      <td>3</td>\n",
              "      <td>3.000000</td>\n",
              "    </tr>\n",
              "    <tr>\n",
              "      <th>6.6.3</th>\n",
              "      <td>1</td>\n",
              "      <td>5.000000</td>\n",
              "    </tr>\n",
              "    <tr>\n",
              "      <th>6.6.8</th>\n",
              "      <td>4</td>\n",
              "      <td>5.000000</td>\n",
              "    </tr>\n",
              "    <tr>\n",
              "      <th>6.7.1</th>\n",
              "      <td>1</td>\n",
              "      <td>4.000000</td>\n",
              "    </tr>\n",
              "    <tr>\n",
              "      <th>6.7.2</th>\n",
              "      <td>2</td>\n",
              "      <td>3.000000</td>\n",
              "    </tr>\n",
              "    <tr>\n",
              "      <th>6.7.4</th>\n",
              "      <td>1</td>\n",
              "      <td>5.000000</td>\n",
              "    </tr>\n",
              "    <tr>\n",
              "      <th>6.7.6</th>\n",
              "      <td>2</td>\n",
              "      <td>2.500000</td>\n",
              "    </tr>\n",
              "    <tr>\n",
              "      <th>6.7.8</th>\n",
              "      <td>9</td>\n",
              "      <td>4.111111</td>\n",
              "    </tr>\n",
              "    <tr>\n",
              "      <th>6.7.9</th>\n",
              "      <td>5</td>\n",
              "      <td>4.200000</td>\n",
              "    </tr>\n",
              "    <tr>\n",
              "      <th>6.8.4</th>\n",
              "      <td>2</td>\n",
              "      <td>5.000000</td>\n",
              "    </tr>\n",
              "    <tr>\n",
              "      <th>6.8.5</th>\n",
              "      <td>2</td>\n",
              "      <td>4.500000</td>\n",
              "    </tr>\n",
              "    <tr>\n",
              "      <th>6.8.7</th>\n",
              "      <td>5</td>\n",
              "      <td>4.200000</td>\n",
              "    </tr>\n",
              "    <tr>\n",
              "      <th>6.8.8</th>\n",
              "      <td>28</td>\n",
              "      <td>4.285714</td>\n",
              "    </tr>\n",
              "    <tr>\n",
              "      <th>6.8.9</th>\n",
              "      <td>32</td>\n",
              "      <td>3.750000</td>\n",
              "    </tr>\n",
              "    <tr>\n",
              "      <th>6.9.0</th>\n",
              "      <td>1</td>\n",
              "      <td>4.000000</td>\n",
              "    </tr>\n",
              "    <tr>\n",
              "      <th>6.9.1</th>\n",
              "      <td>1</td>\n",
              "      <td>5.000000</td>\n",
              "    </tr>\n",
              "    <tr>\n",
              "      <th>6.9.2</th>\n",
              "      <td>20</td>\n",
              "      <td>4.300000</td>\n",
              "    </tr>\n",
              "    <tr>\n",
              "      <th>6.9.3</th>\n",
              "      <td>30</td>\n",
              "      <td>4.233333</td>\n",
              "    </tr>\n",
              "    <tr>\n",
              "      <th>6.9.5</th>\n",
              "      <td>13</td>\n",
              "      <td>3.692308</td>\n",
              "    </tr>\n",
              "    <tr>\n",
              "      <th>6.9.6</th>\n",
              "      <td>1</td>\n",
              "      <td>5.000000</td>\n",
              "    </tr>\n",
              "    <tr>\n",
              "      <th>6.9.7</th>\n",
              "      <td>3</td>\n",
              "      <td>4.666667</td>\n",
              "    </tr>\n",
              "    <tr>\n",
              "      <th>6.9.8</th>\n",
              "      <td>90</td>\n",
              "      <td>4.044444</td>\n",
              "    </tr>\n",
              "    <tr>\n",
              "      <th>6.9.9</th>\n",
              "      <td>8</td>\n",
              "      <td>4.375000</td>\n",
              "    </tr>\n",
              "  </tbody>\n",
              "</table>\n",
              "</div>"
            ],
            "text/plain": [
              "                  Quantidade_de_usuarios  Star Rating\n",
              "App Version Name                                     \n",
              "4.1.14                                 1     5.000000\n",
              "4.1.17                                 1     3.000000\n",
              "4.1.7                                  2     5.000000\n",
              "4.1.8                                  1     5.000000\n",
              "5.0.7                                  1     4.000000\n",
              "5.3.1                                  1     5.000000\n",
              "6.0.7                                  1     5.000000\n",
              "6.1.4                                  2     4.500000\n",
              "6.1.9                                  1     5.000000\n",
              "6.10.0                               311     4.527331\n",
              "6.10.1                                 8     5.000000\n",
              "6.10.2                                14     4.857143\n",
              "6.10.3                              1113     4.385445\n",
              "6.10.4                                14     4.785714\n",
              "6.10.5                              1141     4.439965\n",
              "6.10.6                              2048     4.409668\n",
              "6.10.7                                20     4.700000\n",
              "6.10.8                                85     4.188235\n",
              "6.10.9                               277     4.209386\n",
              "6.11.1                               107     4.495327\n",
              "6.2.5                                  1     5.000000\n",
              "6.4.0                                  1     5.000000\n",
              "6.4.3                                  4     4.500000\n",
              "6.5.1                                  1     5.000000\n",
              "6.5.10                                 1     5.000000\n",
              "6.5.5                                  1     4.000000\n",
              "6.5.7                                  1     5.000000\n",
              "6.6.11                                 3     3.000000\n",
              "6.6.3                                  1     5.000000\n",
              "6.6.8                                  4     5.000000\n",
              "6.7.1                                  1     4.000000\n",
              "6.7.2                                  2     3.000000\n",
              "6.7.4                                  1     5.000000\n",
              "6.7.6                                  2     2.500000\n",
              "6.7.8                                  9     4.111111\n",
              "6.7.9                                  5     4.200000\n",
              "6.8.4                                  2     5.000000\n",
              "6.8.5                                  2     4.500000\n",
              "6.8.7                                  5     4.200000\n",
              "6.8.8                                 28     4.285714\n",
              "6.8.9                                 32     3.750000\n",
              "6.9.0                                  1     4.000000\n",
              "6.9.1                                  1     5.000000\n",
              "6.9.2                                 20     4.300000\n",
              "6.9.3                                 30     4.233333\n",
              "6.9.5                                 13     3.692308\n",
              "6.9.6                                  1     5.000000\n",
              "6.9.7                                  3     4.666667\n",
              "6.9.8                                 90     4.044444\n",
              "6.9.9                                  8     4.375000"
            ]
          },
          "metadata": {
            "tags": []
          },
          "execution_count": 139
        }
      ]
    },
    {
      "cell_type": "markdown",
      "metadata": {
        "id": "A_2kyV33AgvB"
      },
      "source": [
        "####Importação da biblioteca numpy"
      ]
    },
    {
      "cell_type": "code",
      "metadata": {
        "id": "z4md0H8SDOBd"
      },
      "source": [
        "import numpy as np"
      ],
      "execution_count": 140,
      "outputs": []
    },
    {
      "cell_type": "markdown",
      "metadata": {
        "id": "WMQzql-qzoa4"
      },
      "source": [
        "####Filtração do DataFrame pela quantidade de usuários maior ou igual 100  "
      ]
    },
    {
      "cell_type": "code",
      "metadata": {
        "colab": {
          "base_uri": "https://localhost:8080/",
          "height": 266
        },
        "id": "FgZ-WWRkeMzc",
        "outputId": "6e109e72-e01d-469e-f420-056fade7f844"
      },
      "source": [
        "satisfacao_mais_de_100_usuarios =satisfacao_por_versao_app['Quantidade_de_usuarios'] > 100\n",
        "positions = np.flatnonzero(satisfacao_mais_de_100_usuarios)\n",
        "satisfacao_mais_de_100_usuarios=satisfacao_por_versao_app.iloc[positions]\n",
        "satisfacao_mais_de_100_usuarios"
      ],
      "execution_count": 141,
      "outputs": [
        {
          "output_type": "execute_result",
          "data": {
            "text/html": [
              "<div>\n",
              "<style scoped>\n",
              "    .dataframe tbody tr th:only-of-type {\n",
              "        vertical-align: middle;\n",
              "    }\n",
              "\n",
              "    .dataframe tbody tr th {\n",
              "        vertical-align: top;\n",
              "    }\n",
              "\n",
              "    .dataframe thead th {\n",
              "        text-align: right;\n",
              "    }\n",
              "</style>\n",
              "<table border=\"1\" class=\"dataframe\">\n",
              "  <thead>\n",
              "    <tr style=\"text-align: right;\">\n",
              "      <th></th>\n",
              "      <th>Quantidade_de_usuarios</th>\n",
              "      <th>Star Rating</th>\n",
              "    </tr>\n",
              "    <tr>\n",
              "      <th>App Version Name</th>\n",
              "      <th></th>\n",
              "      <th></th>\n",
              "    </tr>\n",
              "  </thead>\n",
              "  <tbody>\n",
              "    <tr>\n",
              "      <th>6.10.0</th>\n",
              "      <td>311</td>\n",
              "      <td>4.527331</td>\n",
              "    </tr>\n",
              "    <tr>\n",
              "      <th>6.10.3</th>\n",
              "      <td>1113</td>\n",
              "      <td>4.385445</td>\n",
              "    </tr>\n",
              "    <tr>\n",
              "      <th>6.10.5</th>\n",
              "      <td>1141</td>\n",
              "      <td>4.439965</td>\n",
              "    </tr>\n",
              "    <tr>\n",
              "      <th>6.10.6</th>\n",
              "      <td>2048</td>\n",
              "      <td>4.409668</td>\n",
              "    </tr>\n",
              "    <tr>\n",
              "      <th>6.10.9</th>\n",
              "      <td>277</td>\n",
              "      <td>4.209386</td>\n",
              "    </tr>\n",
              "    <tr>\n",
              "      <th>6.11.1</th>\n",
              "      <td>107</td>\n",
              "      <td>4.495327</td>\n",
              "    </tr>\n",
              "  </tbody>\n",
              "</table>\n",
              "</div>"
            ],
            "text/plain": [
              "                  Quantidade_de_usuarios  Star Rating\n",
              "App Version Name                                     \n",
              "6.10.0                               311     4.527331\n",
              "6.10.3                              1113     4.385445\n",
              "6.10.5                              1141     4.439965\n",
              "6.10.6                              2048     4.409668\n",
              "6.10.9                               277     4.209386\n",
              "6.11.1                               107     4.495327"
            ]
          },
          "metadata": {
            "tags": []
          },
          "execution_count": 141
        }
      ]
    },
    {
      "cell_type": "code",
      "metadata": {
        "id": "N1M_cPSVi09o"
      },
      "source": [
        "satisfacao_mais_de_100_usuarios.to_excel('informacoes_por_versao.xlsx', sheet_name='banco_versao')"
      ],
      "execution_count": 142,
      "outputs": []
    },
    {
      "cell_type": "markdown",
      "metadata": {
        "id": "KLOWTB9u5vbE"
      },
      "source": [
        "#Criação do modelo de Machine Learning baseado no DataFrame Retained_Bank"
      ]
    },
    {
      "cell_type": "markdown",
      "metadata": {
        "id": "2-hSUbR91TYe"
      },
      "source": [
        "###Filtração do DataFrame pelo canal de aquisição orgânico"
      ]
    },
    {
      "cell_type": "code",
      "metadata": {
        "colab": {
          "base_uri": "https://localhost:8080/",
          "height": 847
        },
        "id": "H_fbGsO66ZFo",
        "outputId": "776c5711-c84c-4b95-cc57-b33d8e7bb3d8"
      },
      "source": [
        "df2_organico = df2[df2['Acquisition Channel'] == 'Organic']\n",
        "df2_organico"
      ],
      "execution_count": 143,
      "outputs": [
        {
          "output_type": "execute_result",
          "data": {
            "text/html": [
              "<div>\n",
              "<style scoped>\n",
              "    .dataframe tbody tr th:only-of-type {\n",
              "        vertical-align: middle;\n",
              "    }\n",
              "\n",
              "    .dataframe tbody tr th {\n",
              "        vertical-align: top;\n",
              "    }\n",
              "\n",
              "    .dataframe thead th {\n",
              "        text-align: right;\n",
              "    }\n",
              "</style>\n",
              "<table border=\"1\" class=\"dataframe\">\n",
              "  <thead>\n",
              "    <tr style=\"text-align: right;\">\n",
              "      <th></th>\n",
              "      <th>Date</th>\n",
              "      <th>Package Name</th>\n",
              "      <th>Acquisition Channel</th>\n",
              "      <th>Store Listing Visitors</th>\n",
              "      <th>Installers</th>\n",
              "      <th>Visitor-to-Installer conversion rate</th>\n",
              "      <th>Installers retained for 1 day</th>\n",
              "      <th>Installer-to-1 day retention rate</th>\n",
              "      <th>Installers retained for 7 days</th>\n",
              "      <th>Installer-to-7 days retention rate</th>\n",
              "      <th>Installers retained for 15 days</th>\n",
              "      <th>Installer-to-15 days retention rate</th>\n",
              "      <th>Installers retained for 30 days</th>\n",
              "      <th>Installer-to-30 days retention rate</th>\n",
              "    </tr>\n",
              "  </thead>\n",
              "  <tbody>\n",
              "    <tr>\n",
              "      <th>0</th>\n",
              "      <td>2019-08-01 00:00:00</td>\n",
              "      <td>B4 Bank</td>\n",
              "      <td>Organic</td>\n",
              "      <td>1628</td>\n",
              "      <td>414</td>\n",
              "      <td>0.254</td>\n",
              "      <td>359</td>\n",
              "      <td>0.867</td>\n",
              "      <td>344</td>\n",
              "      <td>0.831</td>\n",
              "      <td>335</td>\n",
              "      <td>0.809</td>\n",
              "      <td>330</td>\n",
              "      <td>0.797</td>\n",
              "    </tr>\n",
              "    <tr>\n",
              "      <th>3</th>\n",
              "      <td>2019-08-02 00:00:00</td>\n",
              "      <td>B4 Bank</td>\n",
              "      <td>Organic</td>\n",
              "      <td>1610</td>\n",
              "      <td>407</td>\n",
              "      <td>0.253</td>\n",
              "      <td>354</td>\n",
              "      <td>0.870</td>\n",
              "      <td>338</td>\n",
              "      <td>0.830</td>\n",
              "      <td>330</td>\n",
              "      <td>0.811</td>\n",
              "      <td>322</td>\n",
              "      <td>0.791</td>\n",
              "    </tr>\n",
              "    <tr>\n",
              "      <th>7</th>\n",
              "      <td>2019-08-03 00:00:00</td>\n",
              "      <td>B4 Bank</td>\n",
              "      <td>Organic</td>\n",
              "      <td>1725</td>\n",
              "      <td>401</td>\n",
              "      <td>0.232</td>\n",
              "      <td>360</td>\n",
              "      <td>0.898</td>\n",
              "      <td>348</td>\n",
              "      <td>0.868</td>\n",
              "      <td>348</td>\n",
              "      <td>0.868</td>\n",
              "      <td>340</td>\n",
              "      <td>0.848</td>\n",
              "    </tr>\n",
              "    <tr>\n",
              "      <th>11</th>\n",
              "      <td>2019-08-04 00:00:00</td>\n",
              "      <td>B4 Bank</td>\n",
              "      <td>Organic</td>\n",
              "      <td>1579</td>\n",
              "      <td>410</td>\n",
              "      <td>0.260</td>\n",
              "      <td>365</td>\n",
              "      <td>0.890</td>\n",
              "      <td>350</td>\n",
              "      <td>0.854</td>\n",
              "      <td>341</td>\n",
              "      <td>0.832</td>\n",
              "      <td>330</td>\n",
              "      <td>0.805</td>\n",
              "    </tr>\n",
              "    <tr>\n",
              "      <th>15</th>\n",
              "      <td>2019-08-05 00:00:00</td>\n",
              "      <td>B4 Bank</td>\n",
              "      <td>Organic</td>\n",
              "      <td>1488</td>\n",
              "      <td>374</td>\n",
              "      <td>0.251</td>\n",
              "      <td>334</td>\n",
              "      <td>0.893</td>\n",
              "      <td>323</td>\n",
              "      <td>0.864</td>\n",
              "      <td>317</td>\n",
              "      <td>0.848</td>\n",
              "      <td>303</td>\n",
              "      <td>0.810</td>\n",
              "    </tr>\n",
              "    <tr>\n",
              "      <th>...</th>\n",
              "      <td>...</td>\n",
              "      <td>...</td>\n",
              "      <td>...</td>\n",
              "      <td>...</td>\n",
              "      <td>...</td>\n",
              "      <td>...</td>\n",
              "      <td>...</td>\n",
              "      <td>...</td>\n",
              "      <td>...</td>\n",
              "      <td>...</td>\n",
              "      <td>...</td>\n",
              "      <td>...</td>\n",
              "      <td>...</td>\n",
              "      <td>...</td>\n",
              "    </tr>\n",
              "    <tr>\n",
              "      <th>297</th>\n",
              "      <td>2019-10-26 00:00:00</td>\n",
              "      <td>B4 Bank</td>\n",
              "      <td>Organic</td>\n",
              "      <td>2125</td>\n",
              "      <td>385</td>\n",
              "      <td>0.181</td>\n",
              "      <td>338</td>\n",
              "      <td>0.878</td>\n",
              "      <td>314</td>\n",
              "      <td>0.816</td>\n",
              "      <td>305</td>\n",
              "      <td>0.792</td>\n",
              "      <td>296</td>\n",
              "      <td>0.769</td>\n",
              "    </tr>\n",
              "    <tr>\n",
              "      <th>301</th>\n",
              "      <td>2019-10-27 00:00:00</td>\n",
              "      <td>B4 Bank</td>\n",
              "      <td>Organic</td>\n",
              "      <td>2069</td>\n",
              "      <td>413</td>\n",
              "      <td>0.200</td>\n",
              "      <td>376</td>\n",
              "      <td>0.910</td>\n",
              "      <td>366</td>\n",
              "      <td>0.886</td>\n",
              "      <td>357</td>\n",
              "      <td>0.864</td>\n",
              "      <td>348</td>\n",
              "      <td>0.843</td>\n",
              "    </tr>\n",
              "    <tr>\n",
              "      <th>305</th>\n",
              "      <td>2019-10-28 00:00:00</td>\n",
              "      <td>B4 Bank</td>\n",
              "      <td>Organic</td>\n",
              "      <td>1532</td>\n",
              "      <td>270</td>\n",
              "      <td>0.176</td>\n",
              "      <td>240</td>\n",
              "      <td>0.889</td>\n",
              "      <td>220</td>\n",
              "      <td>0.815</td>\n",
              "      <td>208</td>\n",
              "      <td>0.770</td>\n",
              "      <td>195</td>\n",
              "      <td>0.722</td>\n",
              "    </tr>\n",
              "    <tr>\n",
              "      <th>309</th>\n",
              "      <td>2019-10-29 00:00:00</td>\n",
              "      <td>B4 Bank</td>\n",
              "      <td>Organic</td>\n",
              "      <td>1326</td>\n",
              "      <td>258</td>\n",
              "      <td>0.195</td>\n",
              "      <td>207</td>\n",
              "      <td>0.802</td>\n",
              "      <td>193</td>\n",
              "      <td>0.748</td>\n",
              "      <td>184</td>\n",
              "      <td>0.713</td>\n",
              "      <td>175</td>\n",
              "      <td>0.678</td>\n",
              "    </tr>\n",
              "    <tr>\n",
              "      <th>313</th>\n",
              "      <td>2019-10-30 00:00:00</td>\n",
              "      <td>B4 Bank</td>\n",
              "      <td>Organic</td>\n",
              "      <td>2457</td>\n",
              "      <td>545</td>\n",
              "      <td>0.222</td>\n",
              "      <td>437</td>\n",
              "      <td>0.802</td>\n",
              "      <td>402</td>\n",
              "      <td>0.738</td>\n",
              "      <td>386</td>\n",
              "      <td>0.708</td>\n",
              "      <td>374</td>\n",
              "      <td>0.686</td>\n",
              "    </tr>\n",
              "  </tbody>\n",
              "</table>\n",
              "<p>92 rows × 14 columns</p>\n",
              "</div>"
            ],
            "text/plain": [
              "                    Date  ... Installer-to-30 days retention rate\n",
              "0    2019-08-01 00:00:00  ...                               0.797\n",
              "3    2019-08-02 00:00:00  ...                               0.791\n",
              "7    2019-08-03 00:00:00  ...                               0.848\n",
              "11   2019-08-04 00:00:00  ...                               0.805\n",
              "15   2019-08-05 00:00:00  ...                               0.810\n",
              "..                   ...  ...                                 ...\n",
              "297  2019-10-26 00:00:00  ...                               0.769\n",
              "301  2019-10-27 00:00:00  ...                               0.843\n",
              "305  2019-10-28 00:00:00  ...                               0.722\n",
              "309  2019-10-29 00:00:00  ...                               0.678\n",
              "313  2019-10-30 00:00:00  ...                               0.686\n",
              "\n",
              "[92 rows x 14 columns]"
            ]
          },
          "metadata": {
            "tags": []
          },
          "execution_count": 143
        }
      ]
    },
    {
      "cell_type": "markdown",
      "metadata": {
        "id": "zGwsuzIO1e83"
      },
      "source": [
        "###Correlação entre os valores das colunas do DataFrame"
      ]
    },
    {
      "cell_type": "code",
      "metadata": {
        "colab": {
          "base_uri": "https://localhost:8080/",
          "height": 832
        },
        "id": "25tCRPV7Qezn",
        "outputId": "273df975-f32a-49e5-b626-24f8bd6e10eb"
      },
      "source": [
        "df2_organico.corr()"
      ],
      "execution_count": 144,
      "outputs": [
        {
          "output_type": "execute_result",
          "data": {
            "text/html": [
              "<div>\n",
              "<style scoped>\n",
              "    .dataframe tbody tr th:only-of-type {\n",
              "        vertical-align: middle;\n",
              "    }\n",
              "\n",
              "    .dataframe tbody tr th {\n",
              "        vertical-align: top;\n",
              "    }\n",
              "\n",
              "    .dataframe thead th {\n",
              "        text-align: right;\n",
              "    }\n",
              "</style>\n",
              "<table border=\"1\" class=\"dataframe\">\n",
              "  <thead>\n",
              "    <tr style=\"text-align: right;\">\n",
              "      <th></th>\n",
              "      <th>Store Listing Visitors</th>\n",
              "      <th>Installers</th>\n",
              "      <th>Visitor-to-Installer conversion rate</th>\n",
              "      <th>Installers retained for 1 day</th>\n",
              "      <th>Installer-to-1 day retention rate</th>\n",
              "      <th>Installers retained for 7 days</th>\n",
              "      <th>Installer-to-7 days retention rate</th>\n",
              "      <th>Installers retained for 15 days</th>\n",
              "      <th>Installer-to-15 days retention rate</th>\n",
              "      <th>Installers retained for 30 days</th>\n",
              "      <th>Installer-to-30 days retention rate</th>\n",
              "    </tr>\n",
              "  </thead>\n",
              "  <tbody>\n",
              "    <tr>\n",
              "      <th>Store Listing Visitors</th>\n",
              "      <td>1.000000</td>\n",
              "      <td>0.802322</td>\n",
              "      <td>-0.581193</td>\n",
              "      <td>0.811954</td>\n",
              "      <td>0.346994</td>\n",
              "      <td>0.810291</td>\n",
              "      <td>0.327817</td>\n",
              "      <td>0.810609</td>\n",
              "      <td>0.338570</td>\n",
              "      <td>0.811314</td>\n",
              "      <td>0.338923</td>\n",
              "    </tr>\n",
              "    <tr>\n",
              "      <th>Installers</th>\n",
              "      <td>0.802322</td>\n",
              "      <td>1.000000</td>\n",
              "      <td>-0.059741</td>\n",
              "      <td>0.997141</td>\n",
              "      <td>0.405316</td>\n",
              "      <td>0.995403</td>\n",
              "      <td>0.423594</td>\n",
              "      <td>0.994249</td>\n",
              "      <td>0.451629</td>\n",
              "      <td>0.993517</td>\n",
              "      <td>0.450371</td>\n",
              "    </tr>\n",
              "    <tr>\n",
              "      <th>Visitor-to-Installer conversion rate</th>\n",
              "      <td>-0.581193</td>\n",
              "      <td>-0.059741</td>\n",
              "      <td>1.000000</td>\n",
              "      <td>-0.067911</td>\n",
              "      <td>0.008578</td>\n",
              "      <td>-0.064674</td>\n",
              "      <td>0.064646</td>\n",
              "      <td>-0.062898</td>\n",
              "      <td>0.100338</td>\n",
              "      <td>-0.063123</td>\n",
              "      <td>0.101402</td>\n",
              "    </tr>\n",
              "    <tr>\n",
              "      <th>Installers retained for 1 day</th>\n",
              "      <td>0.811954</td>\n",
              "      <td>0.997141</td>\n",
              "      <td>-0.067911</td>\n",
              "      <td>1.000000</td>\n",
              "      <td>0.465842</td>\n",
              "      <td>0.999279</td>\n",
              "      <td>0.477394</td>\n",
              "      <td>0.998736</td>\n",
              "      <td>0.502509</td>\n",
              "      <td>0.998080</td>\n",
              "      <td>0.498250</td>\n",
              "    </tr>\n",
              "    <tr>\n",
              "      <th>Installer-to-1 day retention rate</th>\n",
              "      <td>0.346994</td>\n",
              "      <td>0.405316</td>\n",
              "      <td>0.008578</td>\n",
              "      <td>0.465842</td>\n",
              "      <td>1.000000</td>\n",
              "      <td>0.474849</td>\n",
              "      <td>0.908095</td>\n",
              "      <td>0.480087</td>\n",
              "      <td>0.878731</td>\n",
              "      <td>0.479413</td>\n",
              "      <td>0.835277</td>\n",
              "    </tr>\n",
              "    <tr>\n",
              "      <th>Installers retained for 7 days</th>\n",
              "      <td>0.810291</td>\n",
              "      <td>0.995403</td>\n",
              "      <td>-0.064674</td>\n",
              "      <td>0.999279</td>\n",
              "      <td>0.474849</td>\n",
              "      <td>1.000000</td>\n",
              "      <td>0.499236</td>\n",
              "      <td>0.999653</td>\n",
              "      <td>0.523329</td>\n",
              "      <td>0.999143</td>\n",
              "      <td>0.519102</td>\n",
              "    </tr>\n",
              "    <tr>\n",
              "      <th>Installer-to-7 days retention rate</th>\n",
              "      <td>0.327817</td>\n",
              "      <td>0.423594</td>\n",
              "      <td>0.064646</td>\n",
              "      <td>0.477394</td>\n",
              "      <td>0.908095</td>\n",
              "      <td>0.499236</td>\n",
              "      <td>1.000000</td>\n",
              "      <td>0.505148</td>\n",
              "      <td>0.972162</td>\n",
              "      <td>0.506000</td>\n",
              "      <td>0.939374</td>\n",
              "    </tr>\n",
              "    <tr>\n",
              "      <th>Installers retained for 15 days</th>\n",
              "      <td>0.810609</td>\n",
              "      <td>0.994249</td>\n",
              "      <td>-0.062898</td>\n",
              "      <td>0.998736</td>\n",
              "      <td>0.480087</td>\n",
              "      <td>0.999653</td>\n",
              "      <td>0.505148</td>\n",
              "      <td>1.000000</td>\n",
              "      <td>0.534248</td>\n",
              "      <td>0.999661</td>\n",
              "      <td>0.530696</td>\n",
              "    </tr>\n",
              "    <tr>\n",
              "      <th>Installer-to-15 days retention rate</th>\n",
              "      <td>0.338570</td>\n",
              "      <td>0.451629</td>\n",
              "      <td>0.100338</td>\n",
              "      <td>0.502509</td>\n",
              "      <td>0.878731</td>\n",
              "      <td>0.523329</td>\n",
              "      <td>0.972162</td>\n",
              "      <td>0.534248</td>\n",
              "      <td>1.000000</td>\n",
              "      <td>0.536367</td>\n",
              "      <td>0.979601</td>\n",
              "    </tr>\n",
              "    <tr>\n",
              "      <th>Installers retained for 30 days</th>\n",
              "      <td>0.811314</td>\n",
              "      <td>0.993517</td>\n",
              "      <td>-0.063123</td>\n",
              "      <td>0.998080</td>\n",
              "      <td>0.479413</td>\n",
              "      <td>0.999143</td>\n",
              "      <td>0.506000</td>\n",
              "      <td>0.999661</td>\n",
              "      <td>0.536367</td>\n",
              "      <td>1.000000</td>\n",
              "      <td>0.537617</td>\n",
              "    </tr>\n",
              "    <tr>\n",
              "      <th>Installer-to-30 days retention rate</th>\n",
              "      <td>0.338923</td>\n",
              "      <td>0.450371</td>\n",
              "      <td>0.101402</td>\n",
              "      <td>0.498250</td>\n",
              "      <td>0.835277</td>\n",
              "      <td>0.519102</td>\n",
              "      <td>0.939374</td>\n",
              "      <td>0.530696</td>\n",
              "      <td>0.979601</td>\n",
              "      <td>0.537617</td>\n",
              "      <td>1.000000</td>\n",
              "    </tr>\n",
              "  </tbody>\n",
              "</table>\n",
              "</div>"
            ],
            "text/plain": [
              "                                      Store Listing Visitors  ...  Installer-to-30 days retention rate\n",
              "Store Listing Visitors                              1.000000  ...                             0.338923\n",
              "Installers                                          0.802322  ...                             0.450371\n",
              "Visitor-to-Installer conversion rate               -0.581193  ...                             0.101402\n",
              "Installers retained for 1 day                       0.811954  ...                             0.498250\n",
              "Installer-to-1 day retention rate                   0.346994  ...                             0.835277\n",
              "Installers retained for 7 days                      0.810291  ...                             0.519102\n",
              "Installer-to-7 days retention rate                  0.327817  ...                             0.939374\n",
              "Installers retained for 15 days                     0.810609  ...                             0.530696\n",
              "Installer-to-15 days retention rate                 0.338570  ...                             0.979601\n",
              "Installers retained for 30 days                     0.811314  ...                             0.537617\n",
              "Installer-to-30 days retention rate                 0.338923  ...                             1.000000\n",
              "\n",
              "[11 rows x 11 columns]"
            ]
          },
          "metadata": {
            "tags": []
          },
          "execution_count": 144
        }
      ]
    },
    {
      "cell_type": "markdown",
      "metadata": {
        "id": "iU2FPuLLA7Xl"
      },
      "source": [
        "A variável dependente é 'Store Listing Visitors' e as variáveis independentes são: 'Installers', 'Visitor-to-Installer conversion rate' e 'Installers retained for 15 days'"
      ]
    },
    {
      "cell_type": "markdown",
      "metadata": {
        "id": "D3aFoxUc2PXr"
      },
      "source": [
        "###Análise Gráfica"
      ]
    },
    {
      "cell_type": "markdown",
      "metadata": {
        "id": "mhFc_1xZ2Vce"
      },
      "source": [
        "####Importando biblioteca Seaborn para plotar os gráficos"
      ]
    },
    {
      "cell_type": "code",
      "metadata": {
        "id": "VZEGDnoJAC-S"
      },
      "source": [
        "import seaborn as sns"
      ],
      "execution_count": 145,
      "outputs": []
    },
    {
      "cell_type": "markdown",
      "metadata": {
        "id": "t2mERa6V2VC9"
      },
      "source": [
        "####Boxplot para a averiguação da presença de outliers"
      ]
    },
    {
      "cell_type": "code",
      "metadata": {
        "colab": {
          "base_uri": "https://localhost:8080/",
          "height": 432
        },
        "id": "18T1mgjNCIb6",
        "outputId": "7d7876f8-4d2e-415a-83e7-69ccf77a4e34"
      },
      "source": [
        "ax = sns.boxplot(data = df2_organico['Store Listing Visitors'], orient = 'h', width = 0.3)\n",
        "\n",
        "ax.figure.set_size_inches(20, 6)\n",
        "ax.set_title('Número de Visitas ao Aplicativo na Loja por Dia', fontsize=20)\n",
        "ax.set_xlabel('Visitas', fontsize=16)\n",
        "ax"
      ],
      "execution_count": 146,
      "outputs": [
        {
          "output_type": "execute_result",
          "data": {
            "text/plain": [
              "<matplotlib.axes._subplots.AxesSubplot at 0x7f8a9cf07250>"
            ]
          },
          "metadata": {
            "tags": []
          },
          "execution_count": 146
        },
        {
          "output_type": "display_data",
          "data": {
            "image/png": "[encoded data removed]",
            "text/plain": [
              "<Figure size 1440x432 with 1 Axes>"
            ]
          },
          "metadata": {
            "tags": [],
            "needs_background": "light"
          }
        }
      ]
    },
    {
      "cell_type": "markdown",
      "metadata": {
        "id": "ueLOsz7W4FZr"
      },
      "source": [
        "#####R: Há a presença de possível outlier, entretanto não impactará na elaboração do modelo de machine learning pela baixa influência no resultado"
      ]
    },
    {
      "cell_type": "markdown",
      "metadata": {
        "id": "RxnKa61120d2"
      },
      "source": [
        "####Distplot para a verificação da Distribuição Normal nos dados"
      ]
    },
    {
      "cell_type": "code",
      "metadata": {
        "colab": {
          "base_uri": "https://localhost:8080/",
          "height": 433
        },
        "id": "KPWozxPz6Dhz",
        "outputId": "eac0e197-8b66-485e-a637-afb1f2ac2005"
      },
      "source": [
        "ax = sns.distplot(df2_organico['Store Listing Visitors'])\n",
        "ax.figure.set_size_inches(20, 6)\n",
        "ax.set_title('Distruição de Frequências - Orgânico', fontsize=20)\n",
        "ax.set_xlabel('Número de Visitas ao Aplicativo na Loja por Dia', fontsize=16)\n",
        "ax"
      ],
      "execution_count": 147,
      "outputs": [
        {
          "output_type": "execute_result",
          "data": {
            "text/plain": [
              "<matplotlib.axes._subplots.AxesSubplot at 0x7f8a9cce2190>"
            ]
          },
          "metadata": {
            "tags": []
          },
          "execution_count": 147
        },
        {
          "output_type": "display_data",
          "data": {
            "image/png": "[encoded data removed]",
            "text/plain": [
              "<Figure size 1440x432 with 1 Axes>"
            ]
          },
          "metadata": {
            "tags": [],
            "needs_background": "light"
          }
        }
      ]
    },
    {
      "cell_type": "markdown",
      "metadata": {
        "id": "5nLEZNt_3dUZ"
      },
      "source": [
        "#####R.: Não é o caso, havendo a necessidade de transformação logarítmica"
      ]
    },
    {
      "cell_type": "markdown",
      "metadata": {
        "id": "helpbEXv3fIH"
      },
      "source": [
        "####Pairplot para a visualização das informações da regressão linear"
      ]
    },
    {
      "cell_type": "code",
      "metadata": {
        "colab": {
          "base_uri": "https://localhost:8080/",
          "height": 417
        },
        "id": "V7SJ8ndwACBF",
        "outputId": "480a70ba-0ea8-494a-82ca-e35559f0d309"
      },
      "source": [
        "ax = sns.pairplot(df2_organico, y_vars = 'Store Listing Visitors', x_vars = ['Installers', 'Visitor-to-Installer conversion rate', 'Installers retained for 15 days'], height = 5, kind = 'reg')\n",
        "ax.fig.suptitle('Dispersão entre as Variáveis', fontsize=20, y=1.05)\n",
        "ax"
      ],
      "execution_count": 148,
      "outputs": [
        {
          "output_type": "execute_result",
          "data": {
            "text/plain": [
              "<seaborn.axisgrid.PairGrid at 0x7f8a9c9b4c90>"
            ]
          },
          "metadata": {
            "tags": []
          },
          "execution_count": 148
        },
        {
          "output_type": "display_data",
          "data": {
            "image/png": "[encoded data removed]",
            "text/plain": [
              "<Figure size 1080x360 with 3 Axes>"
            ]
          },
          "metadata": {
            "tags": [],
            "needs_background": "light"
          }
        }
      ]
    },
    {
      "cell_type": "markdown",
      "metadata": {
        "id": "S1bSUvpi4eVy"
      },
      "source": [
        "###Transformação Logarítmica"
      ]
    },
    {
      "cell_type": "markdown",
      "metadata": {
        "id": "xsFkpORr4kM-"
      },
      "source": [
        "####Tranformação logarítmica e acréscimo das colunas das transformações no DataFrame"
      ]
    },
    {
      "cell_type": "code",
      "metadata": {
        "id": "xreO0vKaElA2"
      },
      "source": [
        "df2_organico['log_Store Listing Visitors'] = np.log(df2_organico['Store Listing Visitors'])\n",
        "df2_organico['log_Installers'] = np.log(df2_organico['Installers'])\n",
        "df2_organico['log_Visitor-to-Installer conversion rate'] = np.log(df2_organico['Visitor-to-Installer conversion rate'] + 1)\n",
        "df2_organico['log_Installers retained for 15 days'] = np.log(df2_organico['Installers retained for 15 days'] + 1)"
      ],
      "execution_count": 149,
      "outputs": []
    },
    {
      "cell_type": "markdown",
      "metadata": {
        "id": "afh4L2L_6Rq6"
      },
      "source": [
        "#####Visualização do DataFrame modificado"
      ]
    },
    {
      "cell_type": "code",
      "metadata": {
        "colab": {
          "base_uri": "https://localhost:8080/",
          "height": 847
        },
        "id": "9NkRA84kEpRw",
        "outputId": "f16448d8-12b3-44ff-9de4-655bee5d385c"
      },
      "source": [
        "df2_organico"
      ],
      "execution_count": 150,
      "outputs": [
        {
          "output_type": "execute_result",
          "data": {
            "text/html": [
              "<div>\n",
              "<style scoped>\n",
              "    .dataframe tbody tr th:only-of-type {\n",
              "        vertical-align: middle;\n",
              "    }\n",
              "\n",
              "    .dataframe tbody tr th {\n",
              "        vertical-align: top;\n",
              "    }\n",
              "\n",
              "    .dataframe thead th {\n",
              "        text-align: right;\n",
              "    }\n",
              "</style>\n",
              "<table border=\"1\" class=\"dataframe\">\n",
              "  <thead>\n",
              "    <tr style=\"text-align: right;\">\n",
              "      <th></th>\n",
              "      <th>Date</th>\n",
              "      <th>Package Name</th>\n",
              "      <th>Acquisition Channel</th>\n",
              "      <th>Store Listing Visitors</th>\n",
              "      <th>Installers</th>\n",
              "      <th>Visitor-to-Installer conversion rate</th>\n",
              "      <th>Installers retained for 1 day</th>\n",
              "      <th>Installer-to-1 day retention rate</th>\n",
              "      <th>Installers retained for 7 days</th>\n",
              "      <th>Installer-to-7 days retention rate</th>\n",
              "      <th>Installers retained for 15 days</th>\n",
              "      <th>Installer-to-15 days retention rate</th>\n",
              "      <th>Installers retained for 30 days</th>\n",
              "      <th>Installer-to-30 days retention rate</th>\n",
              "      <th>log_Store Listing Visitors</th>\n",
              "      <th>log_Installers</th>\n",
              "      <th>log_Visitor-to-Installer conversion rate</th>\n",
              "      <th>log_Installers retained for 15 days</th>\n",
              "    </tr>\n",
              "  </thead>\n",
              "  <tbody>\n",
              "    <tr>\n",
              "      <th>0</th>\n",
              "      <td>2019-08-01 00:00:00</td>\n",
              "      <td>B4 Bank</td>\n",
              "      <td>Organic</td>\n",
              "      <td>1628</td>\n",
              "      <td>414</td>\n",
              "      <td>0.254</td>\n",
              "      <td>359</td>\n",
              "      <td>0.867</td>\n",
              "      <td>344</td>\n",
              "      <td>0.831</td>\n",
              "      <td>335</td>\n",
              "      <td>0.809</td>\n",
              "      <td>330</td>\n",
              "      <td>0.797</td>\n",
              "      <td>7.395108</td>\n",
              "      <td>6.025866</td>\n",
              "      <td>0.226338</td>\n",
              "      <td>5.817111</td>\n",
              "    </tr>\n",
              "    <tr>\n",
              "      <th>3</th>\n",
              "      <td>2019-08-02 00:00:00</td>\n",
              "      <td>B4 Bank</td>\n",
              "      <td>Organic</td>\n",
              "      <td>1610</td>\n",
              "      <td>407</td>\n",
              "      <td>0.253</td>\n",
              "      <td>354</td>\n",
              "      <td>0.870</td>\n",
              "      <td>338</td>\n",
              "      <td>0.830</td>\n",
              "      <td>330</td>\n",
              "      <td>0.811</td>\n",
              "      <td>322</td>\n",
              "      <td>0.791</td>\n",
              "      <td>7.383989</td>\n",
              "      <td>6.008813</td>\n",
              "      <td>0.225541</td>\n",
              "      <td>5.802118</td>\n",
              "    </tr>\n",
              "    <tr>\n",
              "      <th>7</th>\n",
              "      <td>2019-08-03 00:00:00</td>\n",
              "      <td>B4 Bank</td>\n",
              "      <td>Organic</td>\n",
              "      <td>1725</td>\n",
              "      <td>401</td>\n",
              "      <td>0.232</td>\n",
              "      <td>360</td>\n",
              "      <td>0.898</td>\n",
              "      <td>348</td>\n",
              "      <td>0.868</td>\n",
              "      <td>348</td>\n",
              "      <td>0.868</td>\n",
              "      <td>340</td>\n",
              "      <td>0.848</td>\n",
              "      <td>7.452982</td>\n",
              "      <td>5.993961</td>\n",
              "      <td>0.208639</td>\n",
              "      <td>5.855072</td>\n",
              "    </tr>\n",
              "    <tr>\n",
              "      <th>11</th>\n",
              "      <td>2019-08-04 00:00:00</td>\n",
              "      <td>B4 Bank</td>\n",
              "      <td>Organic</td>\n",
              "      <td>1579</td>\n",
              "      <td>410</td>\n",
              "      <td>0.260</td>\n",
              "      <td>365</td>\n",
              "      <td>0.890</td>\n",
              "      <td>350</td>\n",
              "      <td>0.854</td>\n",
              "      <td>341</td>\n",
              "      <td>0.832</td>\n",
              "      <td>330</td>\n",
              "      <td>0.805</td>\n",
              "      <td>7.364547</td>\n",
              "      <td>6.016157</td>\n",
              "      <td>0.231112</td>\n",
              "      <td>5.834811</td>\n",
              "    </tr>\n",
              "    <tr>\n",
              "      <th>15</th>\n",
              "      <td>2019-08-05 00:00:00</td>\n",
              "      <td>B4 Bank</td>\n",
              "      <td>Organic</td>\n",
              "      <td>1488</td>\n",
              "      <td>374</td>\n",
              "      <td>0.251</td>\n",
              "      <td>334</td>\n",
              "      <td>0.893</td>\n",
              "      <td>323</td>\n",
              "      <td>0.864</td>\n",
              "      <td>317</td>\n",
              "      <td>0.848</td>\n",
              "      <td>303</td>\n",
              "      <td>0.810</td>\n",
              "      <td>7.305188</td>\n",
              "      <td>5.924256</td>\n",
              "      <td>0.223943</td>\n",
              "      <td>5.762051</td>\n",
              "    </tr>\n",
              "    <tr>\n",
              "      <th>...</th>\n",
              "      <td>...</td>\n",
              "      <td>...</td>\n",
              "      <td>...</td>\n",
              "      <td>...</td>\n",
              "      <td>...</td>\n",
              "      <td>...</td>\n",
              "      <td>...</td>\n",
              "      <td>...</td>\n",
              "      <td>...</td>\n",
              "      <td>...</td>\n",
              "      <td>...</td>\n",
              "      <td>...</td>\n",
              "      <td>...</td>\n",
              "      <td>...</td>\n",
              "      <td>...</td>\n",
              "      <td>...</td>\n",
              "      <td>...</td>\n",
              "      <td>...</td>\n",
              "    </tr>\n",
              "    <tr>\n",
              "      <th>297</th>\n",
              "      <td>2019-10-26 00:00:00</td>\n",
              "      <td>B4 Bank</td>\n",
              "      <td>Organic</td>\n",
              "      <td>2125</td>\n",
              "      <td>385</td>\n",
              "      <td>0.181</td>\n",
              "      <td>338</td>\n",
              "      <td>0.878</td>\n",
              "      <td>314</td>\n",
              "      <td>0.816</td>\n",
              "      <td>305</td>\n",
              "      <td>0.792</td>\n",
              "      <td>296</td>\n",
              "      <td>0.769</td>\n",
              "      <td>7.661527</td>\n",
              "      <td>5.953243</td>\n",
              "      <td>0.166362</td>\n",
              "      <td>5.723585</td>\n",
              "    </tr>\n",
              "    <tr>\n",
              "      <th>301</th>\n",
              "      <td>2019-10-27 00:00:00</td>\n",
              "      <td>B4 Bank</td>\n",
              "      <td>Organic</td>\n",
              "      <td>2069</td>\n",
              "      <td>413</td>\n",
              "      <td>0.200</td>\n",
              "      <td>376</td>\n",
              "      <td>0.910</td>\n",
              "      <td>366</td>\n",
              "      <td>0.886</td>\n",
              "      <td>357</td>\n",
              "      <td>0.864</td>\n",
              "      <td>348</td>\n",
              "      <td>0.843</td>\n",
              "      <td>7.634821</td>\n",
              "      <td>6.023448</td>\n",
              "      <td>0.182322</td>\n",
              "      <td>5.880533</td>\n",
              "    </tr>\n",
              "    <tr>\n",
              "      <th>305</th>\n",
              "      <td>2019-10-28 00:00:00</td>\n",
              "      <td>B4 Bank</td>\n",
              "      <td>Organic</td>\n",
              "      <td>1532</td>\n",
              "      <td>270</td>\n",
              "      <td>0.176</td>\n",
              "      <td>240</td>\n",
              "      <td>0.889</td>\n",
              "      <td>220</td>\n",
              "      <td>0.815</td>\n",
              "      <td>208</td>\n",
              "      <td>0.770</td>\n",
              "      <td>195</td>\n",
              "      <td>0.722</td>\n",
              "      <td>7.334329</td>\n",
              "      <td>5.598422</td>\n",
              "      <td>0.162119</td>\n",
              "      <td>5.342334</td>\n",
              "    </tr>\n",
              "    <tr>\n",
              "      <th>309</th>\n",
              "      <td>2019-10-29 00:00:00</td>\n",
              "      <td>B4 Bank</td>\n",
              "      <td>Organic</td>\n",
              "      <td>1326</td>\n",
              "      <td>258</td>\n",
              "      <td>0.195</td>\n",
              "      <td>207</td>\n",
              "      <td>0.802</td>\n",
              "      <td>193</td>\n",
              "      <td>0.748</td>\n",
              "      <td>184</td>\n",
              "      <td>0.713</td>\n",
              "      <td>175</td>\n",
              "      <td>0.678</td>\n",
              "      <td>7.189922</td>\n",
              "      <td>5.552960</td>\n",
              "      <td>0.178146</td>\n",
              "      <td>5.220356</td>\n",
              "    </tr>\n",
              "    <tr>\n",
              "      <th>313</th>\n",
              "      <td>2019-10-30 00:00:00</td>\n",
              "      <td>B4 Bank</td>\n",
              "      <td>Organic</td>\n",
              "      <td>2457</td>\n",
              "      <td>545</td>\n",
              "      <td>0.222</td>\n",
              "      <td>437</td>\n",
              "      <td>0.802</td>\n",
              "      <td>402</td>\n",
              "      <td>0.738</td>\n",
              "      <td>386</td>\n",
              "      <td>0.708</td>\n",
              "      <td>374</td>\n",
              "      <td>0.686</td>\n",
              "      <td>7.806696</td>\n",
              "      <td>6.300786</td>\n",
              "      <td>0.200489</td>\n",
              "      <td>5.958425</td>\n",
              "    </tr>\n",
              "  </tbody>\n",
              "</table>\n",
              "<p>92 rows × 18 columns</p>\n",
              "</div>"
            ],
            "text/plain": [
              "                    Date  ... log_Installers retained for 15 days\n",
              "0    2019-08-01 00:00:00  ...                            5.817111\n",
              "3    2019-08-02 00:00:00  ...                            5.802118\n",
              "7    2019-08-03 00:00:00  ...                            5.855072\n",
              "11   2019-08-04 00:00:00  ...                            5.834811\n",
              "15   2019-08-05 00:00:00  ...                            5.762051\n",
              "..                   ...  ...                                 ...\n",
              "297  2019-10-26 00:00:00  ...                            5.723585\n",
              "301  2019-10-27 00:00:00  ...                            5.880533\n",
              "305  2019-10-28 00:00:00  ...                            5.342334\n",
              "309  2019-10-29 00:00:00  ...                            5.220356\n",
              "313  2019-10-30 00:00:00  ...                            5.958425\n",
              "\n",
              "[92 rows x 18 columns]"
            ]
          },
          "metadata": {
            "tags": []
          },
          "execution_count": 150
        }
      ]
    },
    {
      "cell_type": "markdown",
      "metadata": {
        "id": "BMjXhZXa6bc4"
      },
      "source": [
        "####Verificação gráfica da distribuição normal dos dados transformados logaritmicamente"
      ]
    },
    {
      "cell_type": "code",
      "metadata": {
        "colab": {
          "base_uri": "https://localhost:8080/",
          "height": 433
        },
        "id": "bUkD9sNHE9nS",
        "outputId": "1dc497ec-2ba5-4e28-ff66-f8cae304e57e"
      },
      "source": [
        "ax = sns.distplot(df2_organico['log_Store Listing Visitors'])\n",
        "ax.figure.set_size_inches(20, 6)\n",
        "ax.set_title('Distruição de Frequências - Orgânico', fontsize=20)\n",
        "ax.set_xlabel('Número de Visitas ao Aplicativo na Loja por Dia', fontsize=16)\n",
        "ax"
      ],
      "execution_count": 151,
      "outputs": [
        {
          "output_type": "execute_result",
          "data": {
            "text/plain": [
              "<matplotlib.axes._subplots.AxesSubplot at 0x7f8a9c821bd0>"
            ]
          },
          "metadata": {
            "tags": []
          },
          "execution_count": 151
        },
        {
          "output_type": "display_data",
          "data": {
            "image/png": "[encoded data removed]",
            "text/plain": [
              "<Figure size 1440x432 with 1 Axes>"
            ]
          },
          "metadata": {
            "tags": [],
            "needs_background": "light"
          }
        }
      ]
    },
    {
      "cell_type": "markdown",
      "metadata": {
        "id": "ktkSS-aQ616a"
      },
      "source": [
        "####Verificação da regressão linear dos dados transformados logaritmicamente\n",
        "\n"
      ]
    },
    {
      "cell_type": "code",
      "metadata": {
        "colab": {
          "base_uri": "https://localhost:8080/",
          "height": 417
        },
        "id": "e1kayvidFodj",
        "outputId": "d6faff38-2845-44fc-ddbe-95c837105f62"
      },
      "source": [
        "ax = sns.pairplot(df2_organico, y_vars = 'log_Store Listing Visitors', x_vars = ['log_Installers', 'log_Visitor-to-Installer conversion rate', 'log_Installers retained for 15 days'], height = 5, kind = 'reg')\n",
        "ax.fig.suptitle('Dispersão entre as Variáveis', fontsize=20, y=1.05)\n",
        "ax"
      ],
      "execution_count": 152,
      "outputs": [
        {
          "output_type": "execute_result",
          "data": {
            "text/plain": [
              "<seaborn.axisgrid.PairGrid at 0x7f8a9c848d90>"
            ]
          },
          "metadata": {
            "tags": []
          },
          "execution_count": 152
        },
        {
          "output_type": "display_data",
          "data": {
            "image/png": "[encoded data removed]",
            "text/plain": [
              "<Figure size 1080x360 with 3 Axes>"
            ]
          },
          "metadata": {
            "tags": [],
            "needs_background": "light"
          }
        }
      ]
    },
    {
      "cell_type": "markdown",
      "metadata": {
        "id": "DjjpEg2378Nq"
      },
      "source": [
        "###Estimação de um modelo de regressão linear"
      ]
    },
    {
      "cell_type": "markdown",
      "metadata": {
        "id": "TwDVgr7N7es1"
      },
      "source": [
        "#### Importação do train_test_split da biblioteca *scikit-learn*\n"
      ]
    },
    {
      "cell_type": "code",
      "metadata": {
        "id": "NMVUpCbrGEOa"
      },
      "source": [
        "from sklearn.model_selection import train_test_split"
      ],
      "execution_count": 153,
      "outputs": []
    },
    {
      "cell_type": "markdown",
      "metadata": {
        "id": "18egZr6a8NR1"
      },
      "source": [
        "####Criação de uma Series para armazenar a variável dependente (y) e de um DataFrame para armazenar as variáveis explicativas (x)"
      ]
    },
    {
      "cell_type": "code",
      "metadata": {
        "id": "bMV4-nYZGYQM"
      },
      "source": [
        "y = df2_organico['log_Store Listing Visitors']\n",
        "X = df2_organico[['log_Installers', 'log_Visitor-to-Installer conversion rate', 'log_Installers retained for 15 days']]"
      ],
      "execution_count": 154,
      "outputs": []
    },
    {
      "cell_type": "markdown",
      "metadata": {
        "id": "ww9EMV4N8xfl"
      },
      "source": [
        "#### Criação dos datasets de treino e de teste"
      ]
    },
    {
      "cell_type": "code",
      "metadata": {
        "id": "TUIQSkF5GhCU"
      },
      "source": [
        "X_train, X_test, y_train, y_test = train_test_split(X, y, test_size=0.2, random_state = 10)"
      ],
      "execution_count": 155,
      "outputs": []
    },
    {
      "cell_type": "markdown",
      "metadata": {
        "id": "L7jReqWp9Uyi"
      },
      "source": [
        "###Importação da biblioteca statsmodels"
      ]
    },
    {
      "cell_type": "code",
      "metadata": {
        "id": "YqP6Xu1GGsNg"
      },
      "source": [
        "import statsmodels.api as sm"
      ],
      "execution_count": 156,
      "outputs": []
    },
    {
      "cell_type": "markdown",
      "metadata": {
        "id": "tjZSyOLQ9miT"
      },
      "source": [
        "###Estimação do modelo com statsmodels"
      ]
    },
    {
      "cell_type": "code",
      "metadata": {
        "colab": {
          "base_uri": "https://localhost:8080/",
          "height": 419
        },
        "id": "4WklCDEyHTQr",
        "outputId": "0ee16f81-5add-475d-ada2-2ef164561e92"
      },
      "source": [
        "X_train_com_constante = sm.add_constant(X_train)\n",
        "X_train_com_constante"
      ],
      "execution_count": 157,
      "outputs": [
        {
          "output_type": "execute_result",
          "data": {
            "text/html": [
              "<div>\n",
              "<style scoped>\n",
              "    .dataframe tbody tr th:only-of-type {\n",
              "        vertical-align: middle;\n",
              "    }\n",
              "\n",
              "    .dataframe tbody tr th {\n",
              "        vertical-align: top;\n",
              "    }\n",
              "\n",
              "    .dataframe thead th {\n",
              "        text-align: right;\n",
              "    }\n",
              "</style>\n",
              "<table border=\"1\" class=\"dataframe\">\n",
              "  <thead>\n",
              "    <tr style=\"text-align: right;\">\n",
              "      <th></th>\n",
              "      <th>const</th>\n",
              "      <th>log_Installers</th>\n",
              "      <th>log_Visitor-to-Installer conversion rate</th>\n",
              "      <th>log_Installers retained for 15 days</th>\n",
              "    </tr>\n",
              "  </thead>\n",
              "  <tbody>\n",
              "    <tr>\n",
              "      <th>120</th>\n",
              "      <td>1.0</td>\n",
              "      <td>5.389072</td>\n",
              "      <td>0.195567</td>\n",
              "      <td>5.241747</td>\n",
              "    </tr>\n",
              "    <tr>\n",
              "      <th>162</th>\n",
              "      <td>1.0</td>\n",
              "      <td>5.937536</td>\n",
              "      <td>0.227136</td>\n",
              "      <td>5.780744</td>\n",
              "    </tr>\n",
              "    <tr>\n",
              "      <th>70</th>\n",
              "      <td>1.0</td>\n",
              "      <td>5.739793</td>\n",
              "      <td>0.188966</td>\n",
              "      <td>5.587249</td>\n",
              "    </tr>\n",
              "    <tr>\n",
              "      <th>21</th>\n",
              "      <td>1.0</td>\n",
              "      <td>5.141664</td>\n",
              "      <td>0.203757</td>\n",
              "      <td>4.890349</td>\n",
              "    </tr>\n",
              "    <tr>\n",
              "      <th>232</th>\n",
              "      <td>1.0</td>\n",
              "      <td>6.089045</td>\n",
              "      <td>0.186480</td>\n",
              "      <td>5.908083</td>\n",
              "    </tr>\n",
              "    <tr>\n",
              "      <th>...</th>\n",
              "      <td>...</td>\n",
              "      <td>...</td>\n",
              "      <td>...</td>\n",
              "      <td>...</td>\n",
              "    </tr>\n",
              "    <tr>\n",
              "      <th>92</th>\n",
              "      <td>1.0</td>\n",
              "      <td>5.916202</td>\n",
              "      <td>0.145830</td>\n",
              "      <td>5.673323</td>\n",
              "    </tr>\n",
              "    <tr>\n",
              "      <th>90</th>\n",
              "      <td>1.0</td>\n",
              "      <td>5.891644</td>\n",
              "      <td>0.143234</td>\n",
              "      <td>5.693732</td>\n",
              "    </tr>\n",
              "    <tr>\n",
              "      <th>208</th>\n",
              "      <td>1.0</td>\n",
              "      <td>6.173786</td>\n",
              "      <td>0.184818</td>\n",
              "      <td>5.955837</td>\n",
              "    </tr>\n",
              "    <tr>\n",
              "      <th>50</th>\n",
              "      <td>1.0</td>\n",
              "      <td>5.755742</td>\n",
              "      <td>0.223144</td>\n",
              "      <td>5.587249</td>\n",
              "    </tr>\n",
              "    <tr>\n",
              "      <th>32</th>\n",
              "      <td>1.0</td>\n",
              "      <td>5.828946</td>\n",
              "      <td>0.225541</td>\n",
              "      <td>5.669881</td>\n",
              "    </tr>\n",
              "  </tbody>\n",
              "</table>\n",
              "<p>73 rows × 4 columns</p>\n",
              "</div>"
            ],
            "text/plain": [
              "     const  ...  log_Installers retained for 15 days\n",
              "120    1.0  ...                             5.241747\n",
              "162    1.0  ...                             5.780744\n",
              "70     1.0  ...                             5.587249\n",
              "21     1.0  ...                             4.890349\n",
              "232    1.0  ...                             5.908083\n",
              "..     ...  ...                                  ...\n",
              "92     1.0  ...                             5.673323\n",
              "90     1.0  ...                             5.693732\n",
              "208    1.0  ...                             5.955837\n",
              "50     1.0  ...                             5.587249\n",
              "32     1.0  ...                             5.669881\n",
              "\n",
              "[73 rows x 4 columns]"
            ]
          },
          "metadata": {
            "tags": []
          },
          "execution_count": 157
        }
      ]
    },
    {
      "cell_type": "code",
      "metadata": {
        "id": "d6mqxh8QYIMq"
      },
      "source": [
        "modelo_statsmodels = sm.OLS(y_train, X_train_com_constante, hasconst = True).fit()"
      ],
      "execution_count": 158,
      "outputs": []
    },
    {
      "cell_type": "markdown",
      "metadata": {
        "id": "9-KOFoft95Y-"
      },
      "source": [
        "##Estimação do modelo com os dados de treino"
      ]
    },
    {
      "cell_type": "markdown",
      "metadata": {
        "id": "lCqYkCi0-MCQ"
      },
      "source": [
        "###Importação da LinearRegression e metrics da biblioteca scikit-learn"
      ]
    },
    {
      "cell_type": "code",
      "metadata": {
        "id": "BDUf8WeTYLLd"
      },
      "source": [
        "from sklearn.linear_model import LinearRegression\n",
        "from sklearn import metrics"
      ],
      "execution_count": 159,
      "outputs": []
    },
    {
      "cell_type": "markdown",
      "metadata": {
        "id": "ji5z2kw4-21p"
      },
      "source": [
        "### Instanciação da classe LinearRegression()\n"
      ]
    },
    {
      "cell_type": "code",
      "metadata": {
        "id": "CwK0zu1VZOR3"
      },
      "source": [
        "modelo = LinearRegression()"
      ],
      "execution_count": 160,
      "outputs": []
    },
    {
      "cell_type": "markdown",
      "metadata": {
        "id": "XyjDmyf9_C5x"
      },
      "source": [
        "### Utilização do método fit() para estimar o modelo linear com os dados de TREINO"
      ]
    },
    {
      "cell_type": "code",
      "metadata": {
        "colab": {
          "base_uri": "https://localhost:8080/"
        },
        "id": "S4RWZyxYZOxN",
        "outputId": "f62c693b-f219-4706-8b2a-30479ead5bb4"
      },
      "source": [
        "modelo.fit(X_train, y_train)"
      ],
      "execution_count": 161,
      "outputs": [
        {
          "output_type": "execute_result",
          "data": {
            "text/plain": [
              "LinearRegression(copy_X=True, fit_intercept=True, n_jobs=None, normalize=False)"
            ]
          },
          "metadata": {
            "tags": []
          },
          "execution_count": 161
        }
      ]
    },
    {
      "cell_type": "markdown",
      "metadata": {
        "id": "pi_-iGWB_QUq"
      },
      "source": [
        "###Criação do simulador"
      ]
    },
    {
      "cell_type": "code",
      "metadata": {
        "colab": {
          "base_uri": "https://localhost:8080/"
        },
        "id": "aXq_j6HLZgN5",
        "outputId": "1a78293c-fbbe-486e-fce0-b262cff26b81"
      },
      "source": [
        "Installers = 400\n",
        "Visitor_to_Installer_conversion_rate = 0.4\n",
        "Installers_retained_for_15_days = 150\n",
        "entrada = [[np.log(Installers), np.log(Visitor_to_Installer_conversion_rate + 1), np.log(Installers_retained_for_15_days + 1)]]\n",
        "\n",
        "print('Para obtermos {0:.0f} usuários retidos por no mínimo 15 dias com {1:.0f} instalações e com uma taxa de conversão de {2:.3f}, será necessário {3:.0f} visualizações do aplicativo na loja'.format(Installers_retained_for_15_days, Installers, Visitor_to_Installer_conversion_rate, np.exp(modelo.predict(entrada)[0])))"
      ],
      "execution_count": 162,
      "outputs": [
        {
          "output_type": "stream",
          "text": [
            "Para obtermos 150 usuários retidos por no mínimo 15 dias com 400 instalações e com uma taxa de conversão de 0.400, será necessário 669 visualizações do aplicativo na loja\n"
          ],
          "name": "stdout"
        }
      ]
    }
  ]
}